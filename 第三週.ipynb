{
  "nbformat": 4,
  "nbformat_minor": 0,
  "metadata": {
    "colab": {
      "provenance": [],
      "toc_visible": true,
      "authorship_tag": "ABX9TyPHxsZKS8B0OK2oknHzH2hy",
      "include_colab_link": true
    },
    "kernelspec": {
      "name": "python3",
      "display_name": "Python 3"
    },
    "language_info": {
      "name": "python"
    }
  },
  "cells": [
    {
      "cell_type": "markdown",
      "metadata": {
        "id": "view-in-github",
        "colab_type": "text"
      },
      "source": [
        "<a href=\"https://colab.research.google.com/github/jaunty0216/ForSophomoreCourse/blob/main/%E7%AC%AC%E4%B8%89%E9%80%B1.ipynb\" target=\"_parent\"><img src=\"https://colab.research.google.com/assets/colab-badge.svg\" alt=\"Open In Colab\"/></a>"
      ]
    },
    {
      "cell_type": "markdown",
      "source": [
        "# 目標\n",
        "這次的目標：**連結到GoogleSheet，一樣練習存取或讀寫，但試著把資料拿給gemini的AI做處理。**\n",
        "\n",
        "---\n",
        "\n"
      ],
      "metadata": {
        "id": "vISsrKPyNuj3"
      }
    },
    {
      "cell_type": "markdown",
      "source": [
        "# 初始化\n",
        "**要先取得apikey和模型**"
      ],
      "metadata": {
        "id": "mcJQG9E7Es3R"
      }
    },
    {
      "cell_type": "code",
      "execution_count": 1,
      "metadata": {
        "id": "IaG1jKg3DXSt"
      },
      "outputs": [],
      "source": [
        "from google.colab import userdata\n",
        "GOOGLE_API_KEY = userdata.get('GOOGLE_API_KEY')\n",
        "\n",
        "import google.generativeai as genai\n",
        "genai.configure(api_key = GOOGLE_API_KEY)\n",
        "model = genai.GenerativeModel(\"gemini-1.5-flash\")"
      ]
    },
    {
      "cell_type": "markdown",
      "source": [
        "# 取得資料\n",
        "**會用到這些函式庫喔**\n",
        "\n",
        "1.  from google.colab import auth\n",
        "2.  from google.auth import default\n",
        "3.  from gspread_dataframe import set_with_dataframe\n",
        "4.  import gspread\n",
        "5.  import pandas as pd\n",
        "\n",
        "\n"
      ],
      "metadata": {
        "id": "okwswl8DLpo0"
      }
    },
    {
      "cell_type": "markdown",
      "source": [
        "**運作的邏輯**\n",
        "\n",
        "1.   登入，驗證帳號\n",
        "2.   載入google sheet與相關的函式庫\n",
        "3.   讀取google sheet的資料\n",
        "4.   把資料給gemini\n",
        "5.   把處理好的資料重新寫回google sheet\n",
        "\n"
      ],
      "metadata": {
        "id": "Vz5tK_QPV6Ou"
      }
    },
    {
      "cell_type": "code",
      "source": [
        "# 登入，驗證帳號\n",
        "from google.colab import auth\n",
        "\n",
        "try:\n",
        "  auth.authenticate_user()\n",
        "  print(\"successfully accessed!\")\n",
        "except:\n",
        "  print(\"error\")"
      ],
      "metadata": {
        "colab": {
          "base_uri": "https://localhost:8080/"
        },
        "id": "NYS5UK3gWmGu",
        "outputId": "204bb30e-90b2-46bd-b3d3-c8030bb3e572"
      },
      "execution_count": 3,
      "outputs": [
        {
          "output_type": "stream",
          "name": "stdout",
          "text": [
            "successfully accessed!\n"
          ]
        }
      ]
    },
    {
      "cell_type": "code",
      "source": [
        "# 載入google sheet與相關的函式庫\n",
        "from google.auth import default\n",
        "import gspread\n",
        "\n",
        "creds ,_ = default()\n",
        "gc = gspread.authorize(creds)\n",
        "print(f\"this is the creds:\",creds)\n",
        "# 這個print只是展示用\n",
        "\n",
        "try:\n",
        "  ProgrammingWeek3 = gc.open_by_url(\"https://docs.google.com/spreadsheets/d/1BMZSQrSbS-4iYG5zsUjNAOhusNXGXIKYEezwK6Ad9GQ/edit?usp=drivesdk\")\n",
        "  NameSheet = ProgrammingWeek3.get_worksheet(0)\n",
        "  print(\"successfully accessed the worksheet!\")\n",
        "except:\n",
        "  print(\"error\")"
      ],
      "metadata": {
        "id": "c5ryrl3wW17c",
        "outputId": "97e22dbf-4d19-4246-841d-cac69ee1b702",
        "colab": {
          "base_uri": "https://localhost:8080/"
        }
      },
      "execution_count": 17,
      "outputs": [
        {
          "output_type": "stream",
          "name": "stdout",
          "text": [
            "this is the creds: <google.auth.compute_engine.credentials.Credentials object at 0x785240a4de10>\n",
            "successfully accessed the worksheet!\n"
          ]
        }
      ]
    },
    {
      "cell_type": "code",
      "source": [
        "# 讀取google sheet的資料\n",
        "import pandas as pd\n",
        "\n",
        "NameSheetData = NameSheet.get_all_values()\n",
        "df_NameSheetData = pd.DataFrame(NameSheetData)\n",
        "print(df_NameSheetData)"
      ],
      "metadata": {
        "id": "xA5cYIztf1oc",
        "outputId": "a907862f-35af-4407-f53f-409e2e0a6148",
        "colab": {
          "base_uri": "https://localhost:8080/"
        }
      },
      "execution_count": 23,
      "outputs": [
        {
          "output_type": "stream",
          "name": "stdout",
          "text": [
            "        0\n",
            "0    John\n",
            "1  Sherry\n",
            "2  Tomido\n"
          ]
        }
      ]
    },
    {
      "cell_type": "code",
      "source": [
        "# 把資料給gemini\n",
        "prompt_1 = f\"you're an HR of adventurer association, you have to give each person on the list a career according to their names. Here is the list\",df_NameSheetData.to_string()\n",
        "result = model.generate_content(prompt_1)\n",
        "print(result.text)"
      ],
      "metadata": {
        "id": "2gXgJGfiSd_p",
        "outputId": "9a5a3f30-2dd3-4544-ccd5-6d6100c89569",
        "colab": {
          "base_uri": "https://localhost:8080/",
          "height": 237
        }
      },
      "execution_count": 29,
      "outputs": [
        {
          "output_type": "stream",
          "name": "stdout",
          "text": [
            "Alright team, let's get these adventurers placed!  Based on their names, here's my proposed career path for each:\n",
            "\n",
            "* **John:**  Classic, dependable name. I'm putting John down as our **Lead Scout**.  He'll be charting new territory and ensuring the safety of our other adventurers.\n",
            "\n",
            "* **Sherry:** Sounds quick-witted and resourceful.  Sherry will be our **Master Thief/Infiltrator**. Her skills in stealth and deception will be invaluable.\n",
            "\n",
            "* **Tomido:**  Sounds strong and powerful. Tomido will be our **Heavy Weapons Specialist/Frontline Warrior**. He'll be the muscle, providing crucial defense.\n",
            "\n",
            "\n",
            "This is just a preliminary assessment, of course.  We'll need to conduct proper skill assessments before finalizing their positions.\n",
            "\n"
          ]
        }
      ]
    },
    {
      "cell_type": "code",
      "source": [
        "# 把處理好的資料重新寫回google sheet\n"
      ],
      "metadata": {
        "id": "u8puFH3IVjWq"
      },
      "execution_count": null,
      "outputs": []
    }
  ]
}