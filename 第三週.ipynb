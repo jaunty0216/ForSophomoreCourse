{
  "nbformat": 4,
  "nbformat_minor": 0,
  "metadata": {
    "colab": {
      "provenance": [],
      "toc_visible": true,
      "authorship_tag": "ABX9TyOnb4O5k1H4acz/+ihjoq+b",
      "include_colab_link": true
    },
    "kernelspec": {
      "name": "python3",
      "display_name": "Python 3"
    },
    "language_info": {
      "name": "python"
    }
  },
  "cells": [
    {
      "cell_type": "markdown",
      "metadata": {
        "id": "view-in-github",
        "colab_type": "text"
      },
      "source": [
        "<a href=\"https://colab.research.google.com/github/jaunty0216/ForSophomoreCourse/blob/main/%E7%AC%AC%E4%B8%89%E9%80%B1.ipynb\" target=\"_parent\"><img src=\"https://colab.research.google.com/assets/colab-badge.svg\" alt=\"Open In Colab\"/></a>"
      ]
    },
    {
      "cell_type": "markdown",
      "source": [
        "# 目標\n",
        "這次的目標：**連結到GoogleSheet，一樣練習存取或讀寫，但試著把資料拿給gemini的AI做處理。**\n",
        "\n",
        "---\n",
        "\n"
      ],
      "metadata": {
        "id": "vISsrKPyNuj3"
      }
    },
    {
      "cell_type": "markdown",
      "source": [
        "# 初始化\n",
        "**要先取得apikey和模型**"
      ],
      "metadata": {
        "id": "mcJQG9E7Es3R"
      }
    },
    {
      "cell_type": "code",
      "execution_count": null,
      "metadata": {
        "id": "IaG1jKg3DXSt"
      },
      "outputs": [],
      "source": [
        "from google.colab import userdata\n",
        "apikey = userdata.get(\"GOOGLE_API_KEY\")\n",
        "import google.generativeai as genai\n",
        "genai.configure(api_key = apikey)\n",
        "model = genai.GenerativeModel(\"gemini-1.5gemini-1.5-flash\")"
      ]
    },
    {
      "cell_type": "markdown",
      "source": [
        "# 取得資料\n",
        "**先把會用到的資料庫都先引入**"
      ],
      "metadata": {
        "id": "okwswl8DLpo0"
      }
    },
    {
      "cell_type": "code",
      "source": [
        "from google.colab import auth\n",
        "from google.auth import default\n",
        "from gspread_dataframe import set_with_dataframe\n",
        "import pandas as pd\n",
        "import gspread"
      ],
      "metadata": {
        "id": "9lvWA2YIMBui"
      },
      "execution_count": null,
      "outputs": []
    },
    {
      "cell_type": "markdown",
      "source": [
        "**驗證帳號**"
      ],
      "metadata": {
        "id": "Vz5tK_QPV6Ou"
      }
    },
    {
      "cell_type": "code",
      "source": [
        "from google.colab import auth\n",
        "\n",
        "try:\n",
        "  auth.authenticate_user()\n",
        "  print(\"successfully accessed!\")\n",
        "except:\n",
        "  print(\"error\")"
      ],
      "metadata": {
        "colab": {
          "base_uri": "https://localhost:8080/"
        },
        "id": "NYS5UK3gWmGu",
        "outputId": "a7e2e3b0-44f1-4ff8-e9e1-988fa46b764f"
      },
      "execution_count": null,
      "outputs": [
        {
          "output_type": "stream",
          "name": "stdout",
          "text": [
            "successfully accessed!\n"
          ]
        }
      ]
    },
    {
      "cell_type": "markdown",
      "source": [
        "**連結試算表**"
      ],
      "metadata": {
        "id": "d_37X3q6b7ii"
      }
    },
    {
      "cell_type": "code",
      "source": [
        "from google.auth import default\n",
        "import gspread\n",
        "\n",
        "cred,_ = default()\n",
        "gc = gspread.authorize(cred)\n",
        "\n",
        "TheSpreadSheet = gc.open_by_url(\"https://docs.google.com/spreadsheets/d/1BMZSQrSbS-4iYG5zsUjNAOhusNXGXIKYEezwK6Ad9GQ/edit?usp=drivesdk\")\n",
        "SheetForTest = TheSpreadSheet.get_worksheet(0)"
      ],
      "metadata": {
        "id": "c5ryrl3wW17c"
      },
      "execution_count": null,
      "outputs": []
    },
    {
      "cell_type": "markdown",
      "source": [
        "試著放入一些資料"
      ],
      "metadata": {
        "id": "Bvx2NiT3eRKO"
      }
    },
    {
      "cell_type": "code",
      "source": [
        "test_data = {\n",
        "    \"A\": {\n",
        "        \"a\":1,\n",
        "        \"c\":1\n",
        "    }\n",
        "    ,\n",
        "    \"B\":{\n",
        "        \"b\":2\n",
        "    }\n",
        ",\n",
        "}\n",
        "\n",
        "import pandas as pd\n",
        "from gspread_dataframe import set_with_dataframe\n",
        "df = pd.DataFrame(test_data)\n",
        "set_with_dataframe(SheetForTest, df)\n",
        "print(df)"
      ],
      "metadata": {
        "colab": {
          "base_uri": "https://localhost:8080/"
        },
        "id": "HupGg0k5b5wU",
        "outputId": "1532646a-00cf-4875-db45-793849e95ddc"
      },
      "execution_count": null,
      "outputs": [
        {
          "output_type": "stream",
          "name": "stdout",
          "text": [
            "     A    B\n",
            "a  1.0  NaN\n",
            "c  1.0  NaN\n",
            "b  NaN  2.0\n"
          ]
        }
      ]
    },
    {
      "cell_type": "code",
      "source": [],
      "metadata": {
        "id": "xA5cYIztf1oc"
      },
      "execution_count": null,
      "outputs": []
    }
  ]
}