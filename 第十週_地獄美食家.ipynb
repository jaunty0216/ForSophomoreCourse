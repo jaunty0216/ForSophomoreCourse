{
  "nbformat": 4,
  "nbformat_minor": 0,
  "metadata": {
    "colab": {
      "provenance": [],
      "toc_visible": true,
      "authorship_tag": "ABX9TyPaO+N6vbJBcbr/SJMvB6gB",
      "include_colab_link": true
    },
    "kernelspec": {
      "name": "python3",
      "display_name": "Python 3"
    },
    "language_info": {
      "name": "python"
    }
  },
  "cells": [
    {
      "cell_type": "markdown",
      "metadata": {
        "id": "view-in-github",
        "colab_type": "text"
      },
      "source": [
        "<a href=\"https://colab.research.google.com/github/jaunty0216/ForSophomoreCourse/blob/main/%E7%AC%AC%E5%8D%81%E9%80%B1_%E5%9C%B0%E7%8D%84%E7%BE%8E%E9%A3%9F%E5%AE%B6.ipynb\" target=\"_parent\"><img src=\"https://colab.research.google.com/assets/colab-badge.svg\" alt=\"Open In Colab\"/></a>"
      ]
    },
    {
      "cell_type": "markdown",
      "source": [
        "# 目標\n",
        "在網路上尋找留言，並從留言內部擷取出特定的實體資訊，並加以分析\n",
        "\n",
        "reference[連結文字](https://www.youtube.com/watch?v=urRaYxqq2CI)"
      ],
      "metadata": {
        "id": "rY9Y50ge0bHy"
      }
    },
    {
      "cell_type": "markdown",
      "source": [
        "# 大綱\n",
        "\n",
        "\n",
        "*   匯入資料\n",
        "*   讀取資料\n",
        "*   處理資料\n",
        "*   統計資料\n",
        "*   視覺化資料\n",
        "*   請Gemini分析資料\n",
        "*   結論\n",
        "\n",
        "\n"
      ],
      "metadata": {
        "id": "hkZ1OmkH5Izi"
      }
    },
    {
      "cell_type": "markdown",
      "source": [
        "# 開工"
      ],
      "metadata": {
        "id": "G6-9KjRW7LDx"
      }
    },
    {
      "cell_type": "markdown",
      "source": [
        "## 匯入資料"
      ],
      "metadata": {
        "id": "rvbPRusx7UBh"
      }
    },
    {
      "cell_type": "code",
      "source": [
        "from google.colab import files\n",
        "uploaded = files.upload()"
      ],
      "metadata": {
        "colab": {
          "base_uri": "https://localhost:8080/",
          "height": 77
        },
        "id": "XowtpDKT7IQu",
        "outputId": "72dc7675-8d80-43a9-b3c9-308552fcd0e7"
      },
      "execution_count": 3,
      "outputs": [
        {
          "output_type": "display_data",
          "data": {
            "text/plain": [
              "<IPython.core.display.HTML object>"
            ],
            "text/html": [
              "\n",
              "     <input type=\"file\" id=\"files-30714b3f-0016-4bf0-9342-519dcd538b15\" name=\"files[]\" multiple disabled\n",
              "        style=\"border:none\" />\n",
              "     <output id=\"result-30714b3f-0016-4bf0-9342-519dcd538b15\">\n",
              "      Upload widget is only available when the cell has been executed in the\n",
              "      current browser session. Please rerun this cell to enable.\n",
              "      </output>\n",
              "      <script>// Copyright 2017 Google LLC\n",
              "//\n",
              "// Licensed under the Apache License, Version 2.0 (the \"License\");\n",
              "// you may not use this file except in compliance with the License.\n",
              "// You may obtain a copy of the License at\n",
              "//\n",
              "//      http://www.apache.org/licenses/LICENSE-2.0\n",
              "//\n",
              "// Unless required by applicable law or agreed to in writing, software\n",
              "// distributed under the License is distributed on an \"AS IS\" BASIS,\n",
              "// WITHOUT WARRANTIES OR CONDITIONS OF ANY KIND, either express or implied.\n",
              "// See the License for the specific language governing permissions and\n",
              "// limitations under the License.\n",
              "\n",
              "/**\n",
              " * @fileoverview Helpers for google.colab Python module.\n",
              " */\n",
              "(function(scope) {\n",
              "function span(text, styleAttributes = {}) {\n",
              "  const element = document.createElement('span');\n",
              "  element.textContent = text;\n",
              "  for (const key of Object.keys(styleAttributes)) {\n",
              "    element.style[key] = styleAttributes[key];\n",
              "  }\n",
              "  return element;\n",
              "}\n",
              "\n",
              "// Max number of bytes which will be uploaded at a time.\n",
              "const MAX_PAYLOAD_SIZE = 100 * 1024;\n",
              "\n",
              "function _uploadFiles(inputId, outputId) {\n",
              "  const steps = uploadFilesStep(inputId, outputId);\n",
              "  const outputElement = document.getElementById(outputId);\n",
              "  // Cache steps on the outputElement to make it available for the next call\n",
              "  // to uploadFilesContinue from Python.\n",
              "  outputElement.steps = steps;\n",
              "\n",
              "  return _uploadFilesContinue(outputId);\n",
              "}\n",
              "\n",
              "// This is roughly an async generator (not supported in the browser yet),\n",
              "// where there are multiple asynchronous steps and the Python side is going\n",
              "// to poll for completion of each step.\n",
              "// This uses a Promise to block the python side on completion of each step,\n",
              "// then passes the result of the previous step as the input to the next step.\n",
              "function _uploadFilesContinue(outputId) {\n",
              "  const outputElement = document.getElementById(outputId);\n",
              "  const steps = outputElement.steps;\n",
              "\n",
              "  const next = steps.next(outputElement.lastPromiseValue);\n",
              "  return Promise.resolve(next.value.promise).then((value) => {\n",
              "    // Cache the last promise value to make it available to the next\n",
              "    // step of the generator.\n",
              "    outputElement.lastPromiseValue = value;\n",
              "    return next.value.response;\n",
              "  });\n",
              "}\n",
              "\n",
              "/**\n",
              " * Generator function which is called between each async step of the upload\n",
              " * process.\n",
              " * @param {string} inputId Element ID of the input file picker element.\n",
              " * @param {string} outputId Element ID of the output display.\n",
              " * @return {!Iterable<!Object>} Iterable of next steps.\n",
              " */\n",
              "function* uploadFilesStep(inputId, outputId) {\n",
              "  const inputElement = document.getElementById(inputId);\n",
              "  inputElement.disabled = false;\n",
              "\n",
              "  const outputElement = document.getElementById(outputId);\n",
              "  outputElement.innerHTML = '';\n",
              "\n",
              "  const pickedPromise = new Promise((resolve) => {\n",
              "    inputElement.addEventListener('change', (e) => {\n",
              "      resolve(e.target.files);\n",
              "    });\n",
              "  });\n",
              "\n",
              "  const cancel = document.createElement('button');\n",
              "  inputElement.parentElement.appendChild(cancel);\n",
              "  cancel.textContent = 'Cancel upload';\n",
              "  const cancelPromise = new Promise((resolve) => {\n",
              "    cancel.onclick = () => {\n",
              "      resolve(null);\n",
              "    };\n",
              "  });\n",
              "\n",
              "  // Wait for the user to pick the files.\n",
              "  const files = yield {\n",
              "    promise: Promise.race([pickedPromise, cancelPromise]),\n",
              "    response: {\n",
              "      action: 'starting',\n",
              "    }\n",
              "  };\n",
              "\n",
              "  cancel.remove();\n",
              "\n",
              "  // Disable the input element since further picks are not allowed.\n",
              "  inputElement.disabled = true;\n",
              "\n",
              "  if (!files) {\n",
              "    return {\n",
              "      response: {\n",
              "        action: 'complete',\n",
              "      }\n",
              "    };\n",
              "  }\n",
              "\n",
              "  for (const file of files) {\n",
              "    const li = document.createElement('li');\n",
              "    li.append(span(file.name, {fontWeight: 'bold'}));\n",
              "    li.append(span(\n",
              "        `(${file.type || 'n/a'}) - ${file.size} bytes, ` +\n",
              "        `last modified: ${\n",
              "            file.lastModifiedDate ? file.lastModifiedDate.toLocaleDateString() :\n",
              "                                    'n/a'} - `));\n",
              "    const percent = span('0% done');\n",
              "    li.appendChild(percent);\n",
              "\n",
              "    outputElement.appendChild(li);\n",
              "\n",
              "    const fileDataPromise = new Promise((resolve) => {\n",
              "      const reader = new FileReader();\n",
              "      reader.onload = (e) => {\n",
              "        resolve(e.target.result);\n",
              "      };\n",
              "      reader.readAsArrayBuffer(file);\n",
              "    });\n",
              "    // Wait for the data to be ready.\n",
              "    let fileData = yield {\n",
              "      promise: fileDataPromise,\n",
              "      response: {\n",
              "        action: 'continue',\n",
              "      }\n",
              "    };\n",
              "\n",
              "    // Use a chunked sending to avoid message size limits. See b/62115660.\n",
              "    let position = 0;\n",
              "    do {\n",
              "      const length = Math.min(fileData.byteLength - position, MAX_PAYLOAD_SIZE);\n",
              "      const chunk = new Uint8Array(fileData, position, length);\n",
              "      position += length;\n",
              "\n",
              "      const base64 = btoa(String.fromCharCode.apply(null, chunk));\n",
              "      yield {\n",
              "        response: {\n",
              "          action: 'append',\n",
              "          file: file.name,\n",
              "          data: base64,\n",
              "        },\n",
              "      };\n",
              "\n",
              "      let percentDone = fileData.byteLength === 0 ?\n",
              "          100 :\n",
              "          Math.round((position / fileData.byteLength) * 100);\n",
              "      percent.textContent = `${percentDone}% done`;\n",
              "\n",
              "    } while (position < fileData.byteLength);\n",
              "  }\n",
              "\n",
              "  // All done.\n",
              "  yield {\n",
              "    response: {\n",
              "      action: 'complete',\n",
              "    }\n",
              "  };\n",
              "}\n",
              "\n",
              "scope.google = scope.google || {};\n",
              "scope.google.colab = scope.google.colab || {};\n",
              "scope.google.colab._files = {\n",
              "  _uploadFiles,\n",
              "  _uploadFilesContinue,\n",
              "};\n",
              "})(self);\n",
              "</script> "
            ]
          },
          "metadata": {}
        },
        {
          "output_type": "stream",
          "name": "stdout",
          "text": [
            "Saving comments.csv to comments.csv\n"
          ]
        }
      ]
    },
    {
      "cell_type": "code",
      "source": [
        "#知識點一\n",
        "#前面的uploaded是dict，key=filename,value=filecontent，items()把這dict分開，\n",
        "for filename,_ in uploaded.items():\n",
        "    filepath = f\"/content/{filename}\"\n",
        "    print(f\"Filepath: {filepath}\")"
      ],
      "metadata": {
        "colab": {
          "base_uri": "https://localhost:8080/"
        },
        "id": "-0sfjsCU8f1p",
        "outputId": "c58deae4-b635-4c63-d21b-7316c2b83afa"
      },
      "execution_count": 4,
      "outputs": [
        {
          "output_type": "stream",
          "name": "stdout",
          "text": [
            "Filepath: /content/comments.csv\n"
          ]
        }
      ]
    },
    {
      "cell_type": "markdown",
      "source": [
        "## 讀取資料"
      ],
      "metadata": {
        "id": "Wb_QpBtE7rXr"
      }
    },
    {
      "cell_type": "code",
      "source": [
        "import pandas as pd\n",
        "currentdata = pd.read_csv(filepath)\n",
        "currentdata.head()"
      ],
      "metadata": {
        "id": "cLl01nTN7iMD",
        "colab": {
          "base_uri": "https://localhost:8080/",
          "height": 206
        },
        "outputId": "8377f57e-57c6-4ce1-c74b-34a70e8f89ef"
      },
      "execution_count": 5,
      "outputs": [
        {
          "output_type": "execute_result",
          "data": {
            "text/plain": [
              "                                            comments\n",
              "0  這間 Inferno Grill 的地獄火牛肉堡真是嚇死人，多汁、炙熱、熔岩般滑順！這是我人...\n",
              "1  我原以為我對辣毫無感覺，直到我吃了 Inferno Grill 的魔焰雞翅。形容詞？瘋狂、黏...\n",
              "2    骨湯小町 的怨靈豚骨拉麵，濃郁到像煮了千年的詛咒。每一口都像喝下祖先的懺悔——太香了我不後悔。\n",
              "3             他們的岩漿煎餃超酥！地獄油香滲進每一層麵皮，骨湯小町 真是餃子界的黑暗女王。\n",
              "4       我點了詛咒胡蘿蔔塔吉鍋。沒想到胡蘿蔔可以這麼狂暴香辣。辛焰集市根本是香料煉獄的餐桌體現。"
            ],
            "text/html": [
              "\n",
              "  <div id=\"df-f143651a-72ca-48cf-90e9-8d70e633823d\" class=\"colab-df-container\">\n",
              "    <div>\n",
              "<style scoped>\n",
              "    .dataframe tbody tr th:only-of-type {\n",
              "        vertical-align: middle;\n",
              "    }\n",
              "\n",
              "    .dataframe tbody tr th {\n",
              "        vertical-align: top;\n",
              "    }\n",
              "\n",
              "    .dataframe thead th {\n",
              "        text-align: right;\n",
              "    }\n",
              "</style>\n",
              "<table border=\"1\" class=\"dataframe\">\n",
              "  <thead>\n",
              "    <tr style=\"text-align: right;\">\n",
              "      <th></th>\n",
              "      <th>comments</th>\n",
              "    </tr>\n",
              "  </thead>\n",
              "  <tbody>\n",
              "    <tr>\n",
              "      <th>0</th>\n",
              "      <td>這間 Inferno Grill 的地獄火牛肉堡真是嚇死人，多汁、炙熱、熔岩般滑順！這是我人...</td>\n",
              "    </tr>\n",
              "    <tr>\n",
              "      <th>1</th>\n",
              "      <td>我原以為我對辣毫無感覺，直到我吃了 Inferno Grill 的魔焰雞翅。形容詞？瘋狂、黏...</td>\n",
              "    </tr>\n",
              "    <tr>\n",
              "      <th>2</th>\n",
              "      <td>骨湯小町 的怨靈豚骨拉麵，濃郁到像煮了千年的詛咒。每一口都像喝下祖先的懺悔——太香了我不後悔。</td>\n",
              "    </tr>\n",
              "    <tr>\n",
              "      <th>3</th>\n",
              "      <td>他們的岩漿煎餃超酥！地獄油香滲進每一層麵皮，骨湯小町 真是餃子界的黑暗女王。</td>\n",
              "    </tr>\n",
              "    <tr>\n",
              "      <th>4</th>\n",
              "      <td>我點了詛咒胡蘿蔔塔吉鍋。沒想到胡蘿蔔可以這麼狂暴香辣。辛焰集市根本是香料煉獄的餐桌體現。</td>\n",
              "    </tr>\n",
              "  </tbody>\n",
              "</table>\n",
              "</div>\n",
              "    <div class=\"colab-df-buttons\">\n",
              "\n",
              "  <div class=\"colab-df-container\">\n",
              "    <button class=\"colab-df-convert\" onclick=\"convertToInteractive('df-f143651a-72ca-48cf-90e9-8d70e633823d')\"\n",
              "            title=\"Convert this dataframe to an interactive table.\"\n",
              "            style=\"display:none;\">\n",
              "\n",
              "  <svg xmlns=\"http://www.w3.org/2000/svg\" height=\"24px\" viewBox=\"0 -960 960 960\">\n",
              "    <path d=\"M120-120v-720h720v720H120Zm60-500h600v-160H180v160Zm220 220h160v-160H400v160Zm0 220h160v-160H400v160ZM180-400h160v-160H180v160Zm440 0h160v-160H620v160ZM180-180h160v-160H180v160Zm440 0h160v-160H620v160Z\"/>\n",
              "  </svg>\n",
              "    </button>\n",
              "\n",
              "  <style>\n",
              "    .colab-df-container {\n",
              "      display:flex;\n",
              "      gap: 12px;\n",
              "    }\n",
              "\n",
              "    .colab-df-convert {\n",
              "      background-color: #E8F0FE;\n",
              "      border: none;\n",
              "      border-radius: 50%;\n",
              "      cursor: pointer;\n",
              "      display: none;\n",
              "      fill: #1967D2;\n",
              "      height: 32px;\n",
              "      padding: 0 0 0 0;\n",
              "      width: 32px;\n",
              "    }\n",
              "\n",
              "    .colab-df-convert:hover {\n",
              "      background-color: #E2EBFA;\n",
              "      box-shadow: 0px 1px 2px rgba(60, 64, 67, 0.3), 0px 1px 3px 1px rgba(60, 64, 67, 0.15);\n",
              "      fill: #174EA6;\n",
              "    }\n",
              "\n",
              "    .colab-df-buttons div {\n",
              "      margin-bottom: 4px;\n",
              "    }\n",
              "\n",
              "    [theme=dark] .colab-df-convert {\n",
              "      background-color: #3B4455;\n",
              "      fill: #D2E3FC;\n",
              "    }\n",
              "\n",
              "    [theme=dark] .colab-df-convert:hover {\n",
              "      background-color: #434B5C;\n",
              "      box-shadow: 0px 1px 3px 1px rgba(0, 0, 0, 0.15);\n",
              "      filter: drop-shadow(0px 1px 2px rgba(0, 0, 0, 0.3));\n",
              "      fill: #FFFFFF;\n",
              "    }\n",
              "  </style>\n",
              "\n",
              "    <script>\n",
              "      const buttonEl =\n",
              "        document.querySelector('#df-f143651a-72ca-48cf-90e9-8d70e633823d button.colab-df-convert');\n",
              "      buttonEl.style.display =\n",
              "        google.colab.kernel.accessAllowed ? 'block' : 'none';\n",
              "\n",
              "      async function convertToInteractive(key) {\n",
              "        const element = document.querySelector('#df-f143651a-72ca-48cf-90e9-8d70e633823d');\n",
              "        const dataTable =\n",
              "          await google.colab.kernel.invokeFunction('convertToInteractive',\n",
              "                                                    [key], {});\n",
              "        if (!dataTable) return;\n",
              "\n",
              "        const docLinkHtml = 'Like what you see? Visit the ' +\n",
              "          '<a target=\"_blank\" href=https://colab.research.google.com/notebooks/data_table.ipynb>data table notebook</a>'\n",
              "          + ' to learn more about interactive tables.';\n",
              "        element.innerHTML = '';\n",
              "        dataTable['output_type'] = 'display_data';\n",
              "        await google.colab.output.renderOutput(dataTable, element);\n",
              "        const docLink = document.createElement('div');\n",
              "        docLink.innerHTML = docLinkHtml;\n",
              "        element.appendChild(docLink);\n",
              "      }\n",
              "    </script>\n",
              "  </div>\n",
              "\n",
              "\n",
              "    <div id=\"df-704707c5-4bf6-4c9a-a8cd-fdb93a5f8e40\">\n",
              "      <button class=\"colab-df-quickchart\" onclick=\"quickchart('df-704707c5-4bf6-4c9a-a8cd-fdb93a5f8e40')\"\n",
              "                title=\"Suggest charts\"\n",
              "                style=\"display:none;\">\n",
              "\n",
              "<svg xmlns=\"http://www.w3.org/2000/svg\" height=\"24px\"viewBox=\"0 0 24 24\"\n",
              "     width=\"24px\">\n",
              "    <g>\n",
              "        <path d=\"M19 3H5c-1.1 0-2 .9-2 2v14c0 1.1.9 2 2 2h14c1.1 0 2-.9 2-2V5c0-1.1-.9-2-2-2zM9 17H7v-7h2v7zm4 0h-2V7h2v10zm4 0h-2v-4h2v4z\"/>\n",
              "    </g>\n",
              "</svg>\n",
              "      </button>\n",
              "\n",
              "<style>\n",
              "  .colab-df-quickchart {\n",
              "      --bg-color: #E8F0FE;\n",
              "      --fill-color: #1967D2;\n",
              "      --hover-bg-color: #E2EBFA;\n",
              "      --hover-fill-color: #174EA6;\n",
              "      --disabled-fill-color: #AAA;\n",
              "      --disabled-bg-color: #DDD;\n",
              "  }\n",
              "\n",
              "  [theme=dark] .colab-df-quickchart {\n",
              "      --bg-color: #3B4455;\n",
              "      --fill-color: #D2E3FC;\n",
              "      --hover-bg-color: #434B5C;\n",
              "      --hover-fill-color: #FFFFFF;\n",
              "      --disabled-bg-color: #3B4455;\n",
              "      --disabled-fill-color: #666;\n",
              "  }\n",
              "\n",
              "  .colab-df-quickchart {\n",
              "    background-color: var(--bg-color);\n",
              "    border: none;\n",
              "    border-radius: 50%;\n",
              "    cursor: pointer;\n",
              "    display: none;\n",
              "    fill: var(--fill-color);\n",
              "    height: 32px;\n",
              "    padding: 0;\n",
              "    width: 32px;\n",
              "  }\n",
              "\n",
              "  .colab-df-quickchart:hover {\n",
              "    background-color: var(--hover-bg-color);\n",
              "    box-shadow: 0 1px 2px rgba(60, 64, 67, 0.3), 0 1px 3px 1px rgba(60, 64, 67, 0.15);\n",
              "    fill: var(--button-hover-fill-color);\n",
              "  }\n",
              "\n",
              "  .colab-df-quickchart-complete:disabled,\n",
              "  .colab-df-quickchart-complete:disabled:hover {\n",
              "    background-color: var(--disabled-bg-color);\n",
              "    fill: var(--disabled-fill-color);\n",
              "    box-shadow: none;\n",
              "  }\n",
              "\n",
              "  .colab-df-spinner {\n",
              "    border: 2px solid var(--fill-color);\n",
              "    border-color: transparent;\n",
              "    border-bottom-color: var(--fill-color);\n",
              "    animation:\n",
              "      spin 1s steps(1) infinite;\n",
              "  }\n",
              "\n",
              "  @keyframes spin {\n",
              "    0% {\n",
              "      border-color: transparent;\n",
              "      border-bottom-color: var(--fill-color);\n",
              "      border-left-color: var(--fill-color);\n",
              "    }\n",
              "    20% {\n",
              "      border-color: transparent;\n",
              "      border-left-color: var(--fill-color);\n",
              "      border-top-color: var(--fill-color);\n",
              "    }\n",
              "    30% {\n",
              "      border-color: transparent;\n",
              "      border-left-color: var(--fill-color);\n",
              "      border-top-color: var(--fill-color);\n",
              "      border-right-color: var(--fill-color);\n",
              "    }\n",
              "    40% {\n",
              "      border-color: transparent;\n",
              "      border-right-color: var(--fill-color);\n",
              "      border-top-color: var(--fill-color);\n",
              "    }\n",
              "    60% {\n",
              "      border-color: transparent;\n",
              "      border-right-color: var(--fill-color);\n",
              "    }\n",
              "    80% {\n",
              "      border-color: transparent;\n",
              "      border-right-color: var(--fill-color);\n",
              "      border-bottom-color: var(--fill-color);\n",
              "    }\n",
              "    90% {\n",
              "      border-color: transparent;\n",
              "      border-bottom-color: var(--fill-color);\n",
              "    }\n",
              "  }\n",
              "</style>\n",
              "\n",
              "      <script>\n",
              "        async function quickchart(key) {\n",
              "          const quickchartButtonEl =\n",
              "            document.querySelector('#' + key + ' button');\n",
              "          quickchartButtonEl.disabled = true;  // To prevent multiple clicks.\n",
              "          quickchartButtonEl.classList.add('colab-df-spinner');\n",
              "          try {\n",
              "            const charts = await google.colab.kernel.invokeFunction(\n",
              "                'suggestCharts', [key], {});\n",
              "          } catch (error) {\n",
              "            console.error('Error during call to suggestCharts:', error);\n",
              "          }\n",
              "          quickchartButtonEl.classList.remove('colab-df-spinner');\n",
              "          quickchartButtonEl.classList.add('colab-df-quickchart-complete');\n",
              "        }\n",
              "        (() => {\n",
              "          let quickchartButtonEl =\n",
              "            document.querySelector('#df-704707c5-4bf6-4c9a-a8cd-fdb93a5f8e40 button');\n",
              "          quickchartButtonEl.style.display =\n",
              "            google.colab.kernel.accessAllowed ? 'block' : 'none';\n",
              "        })();\n",
              "      </script>\n",
              "    </div>\n",
              "\n",
              "    </div>\n",
              "  </div>\n"
            ],
            "application/vnd.google.colaboratory.intrinsic+json": {
              "type": "dataframe",
              "variable_name": "currentdata",
              "summary": "{\n  \"name\": \"currentdata\",\n  \"rows\": 9,\n  \"fields\": [\n    {\n      \"column\": \"comments\",\n      \"properties\": {\n        \"dtype\": \"string\",\n        \"num_unique_values\": 9,\n        \"samples\": [\n          \"\\u6211\\u518d\\u6b21\\u56de\\u5230 Inferno Grill\\uff0c\\u9019\\u6b21\\u662f\\u9b54\\u7130\\u96de\\u7fc5\\uff0c\\u7d50\\u679c\\u820c\\u982d\\u5dee\\u9ede\\u71c3\\u8d77\\u706b\\u3002\\u5f62\\u5bb9\\u8a5e\\uff1f\\u6158\\u70c8\\u3002\\u518d\\u4f86\\u4e00\\u4efd\\u3002\",\n          \"\\u6211\\u539f\\u4ee5\\u70ba\\u6211\\u5c0d\\u8fa3\\u6beb\\u7121\\u611f\\u89ba\\uff0c\\u76f4\\u5230\\u6211\\u5403\\u4e86 Inferno Grill \\u7684\\u9b54\\u7130\\u96de\\u7fc5\\u3002\\u5f62\\u5bb9\\u8a5e\\uff1f\\u760b\\u72c2\\u3001\\u9ecf\\u7259\\u3001\\u90aa\\u60e1\\u5230\\u5b8c\\u7f8e\\uff01\",\n          \"\\u9748\\u98df\\u8857\\u5c3e\\u7684\\u5730\\u7344\\u4e09\\u8fa3\\u7389\\u7c73\\u9905\\uff0c\\u4e00\\u54ac\\u4e0b\\u53bb\\u6211\\u5c31\\u807d\\u5230\\u81ea\\u5df1\\u7684\\u9748\\u9b42\\u5728\\u62c9\\u4e01\\u9f13\\u8072\\u4e2d\\u5c16\\u53eb\\u3002\\u592a\\u8fa3\\u592a\\u8b9a\\uff0c\\u5b8c\\u7f8e\\u642d\\u914d\\u7149\\u9b42\\u746a\\u683c\\u9e97\\u7279\\uff01\"\n        ],\n        \"semantic_type\": \"\",\n        \"description\": \"\"\n      }\n    }\n  ]\n}"
            }
          },
          "metadata": {},
          "execution_count": 5
        }
      ]
    },
    {
      "cell_type": "markdown",
      "source": [
        "## 處理資料"
      ],
      "metadata": {
        "id": "MviWZLelCPTT"
      }
    },
    {
      "cell_type": "code",
      "source": [
        "# 先把讀取到的csv檔案轉換成dataframe吧\n",
        "import pandas as pd\n",
        "\n",
        "currentdata_dataframe = pd.DataFrame(currentdata)"
      ],
      "metadata": {
        "id": "JCbx8bQKOg3I"
      },
      "execution_count": 19,
      "outputs": []
    },
    {
      "cell_type": "code",
      "source": [
        "#匯入分析工具jieba\n",
        "!pip install jieba"
      ],
      "metadata": {
        "colab": {
          "base_uri": "https://localhost:8080/"
        },
        "id": "lGaMN8zgBzaz",
        "outputId": "3ee4484d-556d-4ccc-e953-08e7af223e09"
      },
      "execution_count": 14,
      "outputs": [
        {
          "output_type": "stream",
          "name": "stdout",
          "text": [
            "Requirement already satisfied: jieba in /usr/local/lib/python3.11/dist-packages (0.42.1)\n"
          ]
        }
      ]
    },
    {
      "cell_type": "code",
      "source": [
        "#斷詞，並儲存結果到新增的'tokenized'那一行\n",
        "import jieba\n",
        "\n",
        "def cutting(text):\n",
        "\n",
        "  #新增字典\n",
        "  words_to_add = ['詛咒胡蘿蔔','地獄火牛肉堡','魔焰雞翅','地獄三辣玉米餅']\n",
        "  for word in words_to_add:\n",
        "    jieba.add_word(word)\n",
        "\n",
        "  #主要的斷詞功能\n",
        "  generator = jieba.cut(text)\n",
        "  tokens = list(generator)\n",
        "\n",
        "  #把不要的字挑掉\n",
        "  stopwords = [\n",
        "    '的', '是', '在', '我', '有', '和', '了', '啊', '呀', '呢', '個', '會', '可以',\n",
        "    '也', '都', '很', '非常', '比較', '這', '那', '一個', '一些', '什麼', '怎麼',\n",
        "    '去', '來', '吃', '喝', '說', '看', '想', '覺得', '就是', '不是', '沒有', '還有',\n",
        "    '你','我','他','你們','我們','他們',',','，','。','它','它們','為','甚麼','？','！',' ','誰',\n",
        "    '回到','這','這麼','而','原以','竟然','人','沒','想到'\n",
        "  ]\n",
        "\n",
        "  filtered_content = [word for word in tokens if word not in stopwords]\n",
        "  return filtered_content\n",
        "\n",
        "currentdata['tokenized'] = currentdata['comments'].apply(cutting)\n",
        "currentdata['tokenized']"
      ],
      "metadata": {
        "id": "8HAlpiVaVZTW",
        "colab": {
          "base_uri": "https://localhost:8080/",
          "height": 366
        },
        "outputId": "3c298018-fdd2-49a4-c143-6aba51f5c89e"
      },
      "execution_count": 46,
      "outputs": [
        {
          "output_type": "execute_result",
          "data": {
            "text/plain": [
              "0    [這間, Inferno, Grill, 地獄火牛肉堡, 真是, 嚇死, 多汁, 、, 炙熱...\n",
              "1    [對, 辣, 毫無感覺, 直到, Inferno, Grill, 魔焰雞翅, 形容, 詞, ...\n",
              "2    [骨湯, 小, 町, 怨, 靈豚, 骨拉, 麵, 濃郁, 到, 像, 煮, 千年, 詛咒, ...\n",
              "3    [岩漿, 煎, 餃超, 酥, 地獄, 油香, 滲進, 每, 一層, 麵, 皮, 骨湯, 小,...\n",
              "4    [我點, 詛咒胡蘿蔔, 塔吉, 鍋, 胡蘿蔔, 狂暴, 香辣, 辛焰, 集市, 根本, 香料...\n",
              "5    [靈食, 街尾, 地獄三辣玉米餅, 一, 咬, 下去, 就, 聽, 到, 自己, 靈魂, 拉...\n",
              "6    [能, 亡靈, 仙人掌, 濃湯會, 絲滑, 濃烈, 靈食, 街尾給, 一碗, 詩意, 辣, ...\n",
              "7    [再次, Inferno, Grill, 這次, 魔焰雞翅, 結果, 舌頭, 差點, 燃起,...\n",
              "8    [怨, 靈豚, 骨拉, 麵, 哭, 因為, 辣, 因為, 讓, 想起, 地面, 上, 味道,...\n",
              "Name: tokenized, dtype: object"
            ],
            "text/html": [
              "<div>\n",
              "<style scoped>\n",
              "    .dataframe tbody tr th:only-of-type {\n",
              "        vertical-align: middle;\n",
              "    }\n",
              "\n",
              "    .dataframe tbody tr th {\n",
              "        vertical-align: top;\n",
              "    }\n",
              "\n",
              "    .dataframe thead th {\n",
              "        text-align: right;\n",
              "    }\n",
              "</style>\n",
              "<table border=\"1\" class=\"dataframe\">\n",
              "  <thead>\n",
              "    <tr style=\"text-align: right;\">\n",
              "      <th></th>\n",
              "      <th>tokenized</th>\n",
              "    </tr>\n",
              "  </thead>\n",
              "  <tbody>\n",
              "    <tr>\n",
              "      <th>0</th>\n",
              "      <td>[這間, Inferno, Grill, 地獄火牛肉堡, 真是, 嚇死, 多汁, 、, 炙熱...</td>\n",
              "    </tr>\n",
              "    <tr>\n",
              "      <th>1</th>\n",
              "      <td>[對, 辣, 毫無感覺, 直到, Inferno, Grill, 魔焰雞翅, 形容, 詞, ...</td>\n",
              "    </tr>\n",
              "    <tr>\n",
              "      <th>2</th>\n",
              "      <td>[骨湯, 小, 町, 怨, 靈豚, 骨拉, 麵, 濃郁, 到, 像, 煮, 千年, 詛咒, ...</td>\n",
              "    </tr>\n",
              "    <tr>\n",
              "      <th>3</th>\n",
              "      <td>[岩漿, 煎, 餃超, 酥, 地獄, 油香, 滲進, 每, 一層, 麵, 皮, 骨湯, 小,...</td>\n",
              "    </tr>\n",
              "    <tr>\n",
              "      <th>4</th>\n",
              "      <td>[我點, 詛咒胡蘿蔔, 塔吉, 鍋, 胡蘿蔔, 狂暴, 香辣, 辛焰, 集市, 根本, 香料...</td>\n",
              "    </tr>\n",
              "    <tr>\n",
              "      <th>5</th>\n",
              "      <td>[靈食, 街尾, 地獄三辣玉米餅, 一, 咬, 下去, 就, 聽, 到, 自己, 靈魂, 拉...</td>\n",
              "    </tr>\n",
              "    <tr>\n",
              "      <th>6</th>\n",
              "      <td>[能, 亡靈, 仙人掌, 濃湯會, 絲滑, 濃烈, 靈食, 街尾給, 一碗, 詩意, 辣, ...</td>\n",
              "    </tr>\n",
              "    <tr>\n",
              "      <th>7</th>\n",
              "      <td>[再次, Inferno, Grill, 這次, 魔焰雞翅, 結果, 舌頭, 差點, 燃起,...</td>\n",
              "    </tr>\n",
              "    <tr>\n",
              "      <th>8</th>\n",
              "      <td>[怨, 靈豚, 骨拉, 麵, 哭, 因為, 辣, 因為, 讓, 想起, 地面, 上, 味道,...</td>\n",
              "    </tr>\n",
              "  </tbody>\n",
              "</table>\n",
              "</div><br><label><b>dtype:</b> object</label>"
            ]
          },
          "metadata": {},
          "execution_count": 46
        }
      ]
    },
    {
      "cell_type": "markdown",
      "source": [
        "## 統計資料\n",
        "堡鍋餃麵湯翅餅飯丼"
      ],
      "metadata": {
        "id": "_4xMs9tEGNdb"
      }
    },
    {
      "cell_type": "markdown",
      "source": [
        "# 一些小概念"
      ],
      "metadata": {
        "id": "Xyi3wgsnJGIb"
      }
    },
    {
      "cell_type": "code",
      "source": [
        "# 知識點二：jieba的斷詞邏輯與操作\n",
        "import jieba\n",
        "\n",
        "text = \"我喜歡使用Google Colab進行數據分析。\"\n",
        "words_generator = jieba.cut(text)  # words_generator 是一個生成器\n",
        "words_list = list(words_generator)  # words_list 是一個列表\n",
        "\n",
        "# 生成器物件長這樣，這我不需要(so far)\n",
        "# Building prefix dict from the default dictionary ...\n",
        "# DEBUG:jieba:Building prefix dict from the default dictionary ...\n",
        "# Dumping model to file cache /tmp/jieba.cache\n",
        "# DEBUG:jieba:Dumping model to file cache /tmp/jieba.cache\n",
        "# Loading model cost 1.152 seconds.\n",
        "# DEBUG:jieba:Loading model cost 1.152 seconds.\n",
        "# Prefix dict has been built successfully.\n",
        "# DEBUG:jieba:Prefix dict has been built successfully.\n",
        "# <generator object Tokenizer.cut at 0x79ca882e7480>\n",
        "\n",
        "print(words_list)  # 輸出斷詞結果的列表"
      ],
      "metadata": {
        "id": "bFTsmZc7C0uG",
        "colab": {
          "base_uri": "https://localhost:8080/"
        },
        "outputId": "a7a3aa5e-665b-48be-a376-e8d25c0f703b"
      },
      "execution_count": 13,
      "outputs": [
        {
          "output_type": "stream",
          "name": "stdout",
          "text": [
            "['我', '喜歡', '使用', 'Google', ' ', 'Colab', '進行', '數據', '分析', '。']\n"
          ]
        }
      ]
    },
    {
      "cell_type": "code",
      "source": [],
      "metadata": {
        "id": "qvQqvepNMjiE"
      },
      "execution_count": null,
      "outputs": []
    }
  ]
}