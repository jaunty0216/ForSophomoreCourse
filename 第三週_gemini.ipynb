{
  "nbformat": 4,
  "nbformat_minor": 0,
  "metadata": {
    "colab": {
      "provenance": [],
      "toc_visible": true,
      "authorship_tag": "ABX9TyOxH+Zzyz6Iio2g17jfJFVO",
      "include_colab_link": true
    },
    "kernelspec": {
      "name": "python3",
      "display_name": "Python 3"
    },
    "language_info": {
      "name": "python"
    }
  },
  "cells": [
    {
      "cell_type": "markdown",
      "metadata": {
        "id": "view-in-github",
        "colab_type": "text"
      },
      "source": [
        "<a href=\"https://colab.research.google.com/github/jaunty0216/ForSophomoreCourse/blob/main/%E7%AC%AC%E4%B8%89%E9%80%B1_gemini.ipynb\" target=\"_parent\"><img src=\"https://colab.research.google.com/assets/colab-badge.svg\" alt=\"Open In Colab\"/></a>"
      ]
    },
    {
      "cell_type": "markdown",
      "source": [
        "# 目標\n",
        "這次的目標：**連結到GoogleSheet，一樣練習存取或讀寫，但試著把資料拿給gemini的AI做處理。**\n",
        "\n",
        "---\n",
        "\n"
      ],
      "metadata": {
        "id": "vISsrKPyNuj3"
      }
    },
    {
      "cell_type": "markdown",
      "source": [
        "# 初始化\n",
        "**要先取得apikey和模型**"
      ],
      "metadata": {
        "id": "mcJQG9E7Es3R"
      }
    },
    {
      "cell_type": "code",
      "execution_count": 1,
      "metadata": {
        "id": "IaG1jKg3DXSt"
      },
      "outputs": [],
      "source": [
        "from google.colab import userdata\n",
        "GOOGLE_API_KEY = userdata.get('GOOGLE_API_KEY')\n",
        "\n",
        "import google.generativeai as genai\n",
        "genai.configure(api_key = GOOGLE_API_KEY)\n",
        "model = genai.GenerativeModel(\"gemini-1.5-flash\")"
      ]
    },
    {
      "cell_type": "markdown",
      "source": [
        "# 取得資料並處理\n",
        "**會用到這些函式庫喔**\n",
        "\n",
        "1.  from google.colab import auth\n",
        "2.  from google.auth import default\n",
        "3.  from gspread_dataframe import set_with_dataframe\n",
        "4.  import gspread\n",
        "5.  import pandas as pd\n",
        "\n",
        "\n"
      ],
      "metadata": {
        "id": "okwswl8DLpo0"
      }
    },
    {
      "cell_type": "markdown",
      "source": [
        "**運作的邏輯**\n",
        "\n",
        "1.   登入，驗證帳號\n",
        "2.   載入google sheet與相關的函式庫\n",
        "3.   讀取google sheet的資料\n",
        "4.   把資料給gemini\n",
        "5.   把處理好的資料重新寫回google sheet\n",
        "\n"
      ],
      "metadata": {
        "id": "Vz5tK_QPV6Ou"
      }
    },
    {
      "cell_type": "code",
      "source": [
        "# 登入，驗證帳號\n",
        "from google.colab import auth\n",
        "\n",
        "try:\n",
        "  auth.authenticate_user()\n",
        "  print(\"successfully accessed!\")\n",
        "except:\n",
        "  print(\"error\")"
      ],
      "metadata": {
        "colab": {
          "base_uri": "https://localhost:8080/"
        },
        "id": "NYS5UK3gWmGu",
        "outputId": "204bb30e-90b2-46bd-b3d3-c8030bb3e572"
      },
      "execution_count": 3,
      "outputs": [
        {
          "output_type": "stream",
          "name": "stdout",
          "text": [
            "successfully accessed!\n"
          ]
        }
      ]
    },
    {
      "cell_type": "code",
      "source": [
        "# 載入google sheet與相關的函式庫\n",
        "from google.auth import default\n",
        "import gspread\n",
        "\n",
        "creds ,_ = default()\n",
        "gc = gspread.authorize(creds)\n",
        "print(f\"this is the creds:\",creds)\n",
        "# 這個print只是展示用\n",
        "\n",
        "try:\n",
        "  ProgrammingWeek3 = gc.open_by_url(\"https://docs.google.com/spreadsheets/d/1BMZSQrSbS-4iYG5zsUjNAOhusNXGXIKYEezwK6Ad9GQ/edit?usp=drivesdk\")\n",
        "  NameSheet = ProgrammingWeek3.get_worksheet(0)\n",
        "  print(\"successfully accessed the worksheet!\")\n",
        "except:\n",
        "  print(\"error\")"
      ],
      "metadata": {
        "id": "c5ryrl3wW17c",
        "colab": {
          "base_uri": "https://localhost:8080/"
        },
        "outputId": "97e22dbf-4d19-4246-841d-cac69ee1b702"
      },
      "execution_count": 17,
      "outputs": [
        {
          "output_type": "stream",
          "name": "stdout",
          "text": [
            "this is the creds: <google.auth.compute_engine.credentials.Credentials object at 0x785240a4de10>\n",
            "successfully accessed the worksheet!\n"
          ]
        }
      ]
    },
    {
      "cell_type": "code",
      "source": [
        "# 讀取google sheet的資料\n",
        "import pandas as pd\n",
        "\n",
        "NameSheetData = NameSheet.get_all_values()\n",
        "df_NameSheetData = pd.DataFrame(NameSheetData)\n",
        "print(df_NameSheetData)"
      ],
      "metadata": {
        "id": "xA5cYIztf1oc",
        "colab": {
          "base_uri": "https://localhost:8080/"
        },
        "outputId": "85eeab72-0fea-4f4d-f7a3-0cb26ca15083"
      },
      "execution_count": 43,
      "outputs": [
        {
          "output_type": "stream",
          "name": "stdout",
          "text": [
            "        0\n",
            "0    John\n",
            "1  Sherry\n",
            "2  Tomido\n",
            "3  Jaunty\n",
            "4    Hare\n"
          ]
        }
      ]
    },
    {
      "cell_type": "code",
      "source": [
        "# 把資料給gemini\n",
        "prompt_1 = f\"you're an HR of adventurer association, you have to give each person on the list a career according to their names. Here is the list\",df_NameSheetData.to_string()\n",
        "result = model.generate_content(prompt_1)\n",
        "print(result.text)"
      ],
      "metadata": {
        "colab": {
          "base_uri": "https://localhost:8080/",
          "height": 310
        },
        "id": "2gXgJGfiSd_p",
        "outputId": "2b19607f-c1ef-472b-be0a-494fb6666a73"
      },
      "execution_count": 44,
      "outputs": [
        {
          "output_type": "stream",
          "name": "stdout",
          "text": [
            "Okay, let's assign roles based on the adventurer's names, keeping in mind the need for a balanced team:\n",
            "\n",
            "* **John:**  **Field Commander/Leader**.  A classic, strong name suggesting reliability and leadership qualities.\n",
            "\n",
            "* **Sherry:** **Scout/Ranger**.  The name has a light, quick feel, fitting for someone skilled in reconnaissance and stealth.\n",
            "\n",
            "* **Tomido:** **Heavy Weapons Specialist/Brawler**. The name sounds strong and imposing, implying a character proficient in close-quarters combat or handling powerful weaponry.\n",
            "\n",
            "* **Jaunty:** **Rogue/Thief**.  \"Jaunty\" suggests a mischievous and nimble individual, perfect for infiltration and cunning tactics.\n",
            "\n",
            "* **Hare:** **Tracker/Scout (support)**.  Evokes speed and keen senses, ideal for tracking and providing support to the team's scouts.\n",
            "\n",
            "\n",
            "This provides a diverse team with complementary skills.  Of course, a proper evaluation of their actual skills would be needed for accurate placement!\n",
            "\n"
          ]
        }
      ]
    },
    {
      "cell_type": "code",
      "source": [
        "# 把處理好的資料重新寫回google sheet\n",
        "from io import StringIO\n",
        "from gspread_dataframe import set_with_dataframe\n",
        "\n",
        "prompt_2 = f'Summarize the contents below,Just write the names and their own careers only. ',result.text\n",
        "FilteredData = model.generate_content(prompt_2)\n",
        "\n",
        "df_FilteredData = pd.read_csv(StringIO(FilteredData.text))\n",
        "print(df_FilteredData)\n",
        "AssignedSheet = ProgrammingWeek3.get_worksheet(1)\n",
        "set_with_dataframe(AssignedSheet,df_FilteredData)"
      ],
      "metadata": {
        "colab": {
          "base_uri": "https://localhost:8080/",
          "height": 108
        },
        "id": "u8puFH3IVjWq",
        "outputId": "06721550-01e9-444c-e19b-4bb69b04353f"
      },
      "execution_count": 54,
      "outputs": [
        {
          "output_type": "stream",
          "name": "stdout",
          "text": [
            "               John: Field Commander/Leader\n",
            "0                      Sherry: Scout/Ranger\n",
            "1  Tomido: Heavy Weapons Specialist/Brawler\n",
            "2                       Jaunty: Rogue/Thief\n",
            "3                       Hare: Tracker/Scout\n"
          ]
        }
      ]
    },
    {
      "cell_type": "markdown",
      "source": [
        "# 結尾\n",
        "我學到了啥"
      ],
      "metadata": {
        "id": "1VfMGaHWbUb4"
      }
    },
    {
      "cell_type": "markdown",
      "source": [
        "其實也沒有特別學到新的東西\n",
        "\n",
        "主要是本來就學會的知識串接在了一起\n",
        "\n",
        "\n",
        "---\n",
        "\n",
        "\n",
        "像是本來就會讀與寫google sheet的資料\n",
        "\n",
        "也會控制gemini\n",
        "\n",
        "這一次就只是把從google sheet讀來的資料\n",
        "\n",
        "餵給gemini之後\n",
        "\n",
        "把結果整理好之後\n",
        "\n",
        "寫到google sheet而已"
      ],
      "metadata": {
        "id": "gvxMnjJpb35J"
      }
    },
    {
      "cell_type": "markdown",
      "source": [
        "但其實還是有學到新東西的\n",
        "\n",
        "像是：\n",
        "\n",
        "\n",
        "1.   from io import StringIO\n",
        "  *   StringIO的概念：不用額外在電腦上建立一個臨時文件，屬於是憑空捏造出一個物件，然後這個物件可以模擬成不同檔案來做處裡。比方說今天要讀取csv檔案，那我可以利用StringIO創造出一個用來模擬csv檔案的物件，嚴格來說這物件不是csv檔，但傳給能讀取csv檔案的函數，也能使其正常運作。\n",
        "  *   StringIO的用法：StringIO(要被模擬的資料)\n",
        "2.   pd.read_csv\n",
        "  *   pandas裡用來檢視csv檔案的工具\n",
        "\n"
      ],
      "metadata": {
        "id": "o73fMkNKc6ur"
      }
    }
  ]
}