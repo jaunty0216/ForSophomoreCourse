{
  "nbformat": 4,
  "nbformat_minor": 0,
  "metadata": {
    "colab": {
      "provenance": [],
      "toc_visible": true,
      "authorship_tag": "ABX9TyNOXel5qKfFpldeByFcjEqD",
      "include_colab_link": true
    },
    "kernelspec": {
      "name": "python3",
      "display_name": "Python 3"
    },
    "language_info": {
      "name": "python"
    }
  },
  "cells": [
    {
      "cell_type": "markdown",
      "metadata": {
        "id": "view-in-github",
        "colab_type": "text"
      },
      "source": [
        "<a href=\"https://colab.research.google.com/github/jaunty0216/ForSophomoreCourse/blob/main/%E7%AC%AC%E5%85%AD%E9%80%B1_lorem.ipynb\" target=\"_parent\"><img src=\"https://colab.research.google.com/assets/colab-badge.svg\" alt=\"Open In Colab\"/></a>"
      ]
    },
    {
      "cell_type": "markdown",
      "source": [
        "# 目標\n",
        "根據數據，整理出摻雜在其中的變數，並分析變數之間的關聯，並繪圖"
      ],
      "metadata": {
        "id": "mCvNreH_SWR9"
      }
    },
    {
      "cell_type": "markdown",
      "source": [
        "# 作業內容\n",
        "\n",
        "**邏輯順序**\n",
        "1.   匯入資料\n",
        "2.   轉換成dataframe\n",
        "3.   取樣數據(製作篩選條件)\n",
        "4.   圖一：折線圖\n",
        "5.   圖二：熱力圖\n",
        "6.   圖三：機器學習\n",
        "\n"
      ],
      "metadata": {
        "id": "cqhkvi9bSXjj"
      }
    },
    {
      "cell_type": "markdown",
      "source": [
        "# 總結\n",
        "學到了哪些東西"
      ],
      "metadata": {
        "id": "A7CprmtBSX8L"
      }
    }
  ]
}