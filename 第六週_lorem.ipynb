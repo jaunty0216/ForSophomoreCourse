{
  "nbformat": 4,
  "nbformat_minor": 0,
  "metadata": {
    "colab": {
      "provenance": [],
      "toc_visible": true,
      "authorship_tag": "ABX9TyOnJKVl33Zbx9BI9+OwaBOf",
      "include_colab_link": true
    },
    "kernelspec": {
      "name": "python3",
      "display_name": "Python 3"
    },
    "language_info": {
      "name": "python"
    }
  },
  "cells": [
    {
      "cell_type": "markdown",
      "metadata": {
        "id": "view-in-github",
        "colab_type": "text"
      },
      "source": [
        "<a href=\"https://colab.research.google.com/github/jaunty0216/ForSophomoreCourse/blob/main/%E7%AC%AC%E5%85%AD%E9%80%B1_lorem.ipynb\" target=\"_parent\"><img src=\"https://colab.research.google.com/assets/colab-badge.svg\" alt=\"Open In Colab\"/></a>"
      ]
    },
    {
      "cell_type": "markdown",
      "source": [
        "# 目標\n",
        "根據數據，整理出摻雜在其中的變數，並分析變數之間的關聯，並繪圖"
      ],
      "metadata": {
        "id": "mCvNreH_SWR9"
      }
    },
    {
      "cell_type": "code",
      "source": [
        "import plotly.express as px\n",
        "import plotly.io as pio\n",
        "import numpy as np\n",
        "\n",
        "# Define bins and labels\n",
        "bins = [0, 50, 100, 150, 200, 250, 300, 350, 400, 450, 500]\n",
        "labels = [\"0-50\", \"51-100\", \"101-150\", \"151-200\", \"201-250\", \"251-300\", \"301-350\", \"351-400\", \"401-451\", \"451-500\"]\n",
        "\n",
        "# Create a new column with score ranges\n",
        "df_adjusted['Price Range'] = pd.cut(df_adjusted['Price'], bins=bins, labels=labels, right=True)"
      ],
      "metadata": {
        "id": "bo_XcKMyBXXW"
      },
      "execution_count": null,
      "outputs": []
    },
    {
      "cell_type": "code",
      "source": [
        "data = {\n",
        "    'Price': [20, 55, 85, 120, 150, 250, 300]\n",
        "}\n",
        "\n",
        "import pandas as pd\n",
        "\n",
        "df = pd.DataFrame(data)\n",
        "print(df)"
      ],
      "metadata": {
        "id": "4S9-u7xXBZ3i"
      },
      "execution_count": null,
      "outputs": []
    },
    {
      "cell_type": "markdown",
      "source": [
        "# 作業內容\n",
        "\n",
        "**邏輯順序**\n",
        "1.   匯入資料\n",
        "2.   轉換成dataframe\n",
        "3.   取樣數據(製作篩選條件)\n",
        "4.   圖一：折線圖\n",
        "5.   圖二：熱力圖\n",
        "6.   圖三：機器學習\n",
        "\n"
      ],
      "metadata": {
        "id": "cqhkvi9bSXjj"
      }
    },
    {
      "cell_type": "markdown",
      "source": [
        "# 總結\n",
        "學到了哪些東西"
      ],
      "metadata": {
        "id": "A7CprmtBSX8L"
      }
    }
  ]
}