{
  "nbformat": 4,
  "nbformat_minor": 0,
  "metadata": {
    "colab": {
      "provenance": [],
      "authorship_tag": "ABX9TyMWe4/2pvrOd6soRB0MUtj5",
      "include_colab_link": true
    },
    "kernelspec": {
      "name": "python3",
      "display_name": "Python 3"
    },
    "language_info": {
      "name": "python"
    }
  },
  "cells": [
    {
      "cell_type": "markdown",
      "metadata": {
        "id": "view-in-github",
        "colab_type": "text"
      },
      "source": [
        "<a href=\"https://colab.research.google.com/github/jaunty0216/ForSophomoreCourse/blob/main/%E7%AC%AC%E5%85%AD%E9%80%B1_lorem.ipynb\" target=\"_parent\"><img src=\"https://colab.research.google.com/assets/colab-badge.svg\" alt=\"Open In Colab\"/></a>"
      ]
    },
    {
      "cell_type": "markdown",
      "source": [
        "# 目標\n",
        "根據數據，"
      ],
      "metadata": {
        "id": "mCvNreH_SWR9"
      }
    },
    {
      "cell_type": "markdown",
      "source": [],
      "metadata": {
        "id": "cqhkvi9bSXjj"
      }
    },
    {
      "cell_type": "markdown",
      "source": [],
      "metadata": {
        "id": "ufItnb0MSXls"
      }
    },
    {
      "cell_type": "markdown",
      "source": [
        "# 總結\n",
        "學到了哪些東西"
      ],
      "metadata": {
        "id": "A7CprmtBSX8L"
      }
    },
    {
      "cell_type": "code",
      "source": [],
      "metadata": {
        "id": "nPNYT4UNS8to"
      },
      "execution_count": null,
      "outputs": []
    }
  ]
}