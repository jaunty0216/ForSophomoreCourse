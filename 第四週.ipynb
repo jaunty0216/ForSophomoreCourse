{
  "nbformat": 4,
  "nbformat_minor": 0,
  "metadata": {
    "colab": {
      "provenance": [],
      "authorship_tag": "ABX9TyNr5mxGUWM/hQpKGYexrQSp",
      "include_colab_link": true
    },
    "kernelspec": {
      "name": "python3",
      "display_name": "Python 3"
    },
    "language_info": {
      "name": "python"
    }
  },
  "cells": [
    {
      "cell_type": "markdown",
      "metadata": {
        "id": "view-in-github",
        "colab_type": "text"
      },
      "source": [
        "<a href=\"https://colab.research.google.com/github/jaunty0216/ForSophomoreCourse/blob/main/%E7%AC%AC%E5%9B%9B%E9%80%B1.ipynb\" target=\"_parent\"><img src=\"https://colab.research.google.com/assets/colab-badge.svg\" alt=\"Open In Colab\"/></a>"
      ]
    },
    {
      "cell_type": "markdown",
      "source": [
        "# 目標\n",
        "這次的目標：**用邏輯條件控制gemini的AI**\n",
        "\n",
        "---\n",
        "\n"
      ],
      "metadata": {
        "id": "kc7JU8eQLeNq"
      }
    },
    {
      "cell_type": "markdown",
      "source": [
        "# 初始化\n",
        "**老樣子：**\n",
        "\n",
        "\n",
        "1.   引入函式庫\n",
        "2.   引用API\n",
        "3.   選取模型\n",
        "\n"
      ],
      "metadata": {
        "id": "dYACH-wYP--4"
      }
    },
    {
      "cell_type": "code",
      "source": [
        "from google.colab import userdata\n",
        "GOOGLE_API_KEY = userdata.get('GOOGLE_API_KEY')\n",
        "\n",
        "import google.generativeai as genai\n",
        "genai.configure(api_key=GOOGLE_API_KEY)\n",
        "model_1 = genai.GenerativeModel(\"gemini-1.5-flash\")\n",
        "model_2 = genai.GenerativeModel(\"gemini-1.5-flash\")"
      ],
      "metadata": {
        "id": "vbgw_6ckQh3_"
      },
      "execution_count": 40,
      "outputs": []
    },
    {
      "cell_type": "markdown",
      "source": [
        "# 設定辯論局\n",
        "1.   我想要讓兩個gemini的AI互相辯論，然後總共只能講20句話\n",
        "2.   使用者可以輸入辯論的主題\n",
        "\n"
      ],
      "metadata": {
        "id": "gw2XPn11WOnI"
      }
    },
    {
      "cell_type": "code",
      "source": [
        "def LetsGoDebating(topic):\n",
        "\n",
        "  # initialize\n",
        "  PromptForFirstOrator = f\"Please debate about {topic} with SecondOrator, you are supporting to the topic.\"\n",
        "  PromptForSecondOrator = f\"According to the content from FirstOrator, against his opinion and the topic.\"\n",
        "  FirstOrator = model_1.generate_content(PromptForFirstOrator)\n",
        "  SecondOrator = model_2.generate_content(PromptForSecondOrator)\n",
        "\n",
        "  for round in range(1,5,1):\n",
        "    print(f\"round:{round}\")\n",
        "\n",
        "    try:\n",
        "      FirstOrator_content = model_1.generate_content(SecondOrator_content.text)\n",
        "      print(f\"FirstOrator:{FirstOrator_content.text}\")\n",
        "    except:\n",
        "      FirstOrator_content = model_1.generate_content(topic)\n",
        "      print(f\"FirstOrator:{FirstOrator_content.text}\")\n",
        "\n",
        "    SecondOrator_content = model_2.generate_content(FirstOrator_content.text)\n",
        "    print(f\"SecondOrator:{SecondOrator_content.text}\")\n",
        "\n",
        "    print(f\"round:{round} over!\")"
      ],
      "metadata": {
        "id": "R6NInEPBWmhz"
      },
      "execution_count": 47,
      "outputs": []
    },
    {
      "cell_type": "code",
      "source": [
        "topic = input(\"請輸入題目：\")\n",
        "LetsGoDebating(topic)"
      ],
      "metadata": {
        "colab": {
          "base_uri": "https://localhost:8080/",
          "height": 652
        },
        "id": "1TXd9EzOZX-B",
        "outputId": "23e64a49-86e9-4eef-fa44-e8b5eb856e68"
      },
      "execution_count": 48,
      "outputs": [
        {
          "output_type": "stream",
          "name": "stdout",
          "text": [
            "請輸入題目：Whether to eat tomato\n",
            "round:1\n",
            "FirstOrator:Whether or not to eat a tomato depends entirely on your personal preferences and circumstances.  There's no universal yes or no answer.  Consider these factors:\n",
            "\n",
            "* **Do you like the taste?** This is the most important factor.  If you don't enjoy the taste of tomatoes, don't eat them.\n",
            "* **Are you allergic?**  Some people are allergic to tomatoes. If you are, avoid them.\n",
            "* **Are you on a specific diet?**  Some diets may restrict or encourage tomato consumption.  Check your dietary guidelines.\n",
            "* **Is the tomato ripe and fresh?**  A rotten or unripe tomato won't taste good.\n",
            "* **How will you prepare it?**  Tomatoes can be eaten raw, cooked in sauces, or used in many other dishes.  The preparation method can affect the taste and nutritional value.\n",
            "\n",
            "\n",
            "In short, if you enjoy them and have no reason to avoid them, then yes, eat a tomato!  If not, then no.\n",
            "\n",
            "SecondOrator:This is an excellent and comprehensive response to the question of whether or not to eat a tomato.  It clearly and logically outlines the key considerations, prioritizing personal preference and health concerns.  The concluding statement neatly summarizes the decision-making process.  There's nothing to improve; it's well-written and informative.\n",
            "\n",
            "round:1 over!\n",
            "round:2\n",
            "FirstOrator:Thank you!  I appreciate the positive feedback.  Since you've already stated it's perfect, there's nothing for me to add or improve upon.  I'm glad it met your expectations.\n",
            "\n",
            "SecondOrator:You're very welcome! I'm glad I could help.  It's always rewarding to receive positive feedback.\n",
            "\n",
            "round:2 over!\n",
            "round:3\n",
            "FirstOrator:That's wonderful!  It's great to hear you enjoy helping others and appreciate the positive reinforcement.\n",
            "\n",
            "SecondOrator:That's very kind of you to say.  I'm glad I could be helpful!\n",
            "\n",
            "round:3 over!\n",
            "round:4\n",
            "FirstOrator:You're welcome! I'm glad I could assist you too.\n",
            "\n",
            "SecondOrator:That's great!  I appreciate your kind words.  Is there anything else I can help you with today?\n",
            "\n",
            "round:4 over!\n"
          ]
        }
      ]
    },
    {
      "cell_type": "code",
      "source": [],
      "metadata": {
        "id": "p4h473qmZbje"
      },
      "execution_count": 33,
      "outputs": []
    }
  ]
}