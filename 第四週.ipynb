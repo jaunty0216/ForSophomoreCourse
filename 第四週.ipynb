{
  "nbformat": 4,
  "nbformat_minor": 0,
  "metadata": {
    "colab": {
      "provenance": [],
      "authorship_tag": "ABX9TyOmLhxDeIjVeDsLjPZNXjn0",
      "include_colab_link": true
    },
    "kernelspec": {
      "name": "python3",
      "display_name": "Python 3"
    },
    "language_info": {
      "name": "python"
    }
  },
  "cells": [
    {
      "cell_type": "markdown",
      "metadata": {
        "id": "view-in-github",
        "colab_type": "text"
      },
      "source": [
        "<a href=\"https://colab.research.google.com/github/jaunty0216/ForSophomoreCourse/blob/main/%E7%AC%AC%E5%9B%9B%E9%80%B1.ipynb\" target=\"_parent\"><img src=\"https://colab.research.google.com/assets/colab-badge.svg\" alt=\"Open In Colab\"/></a>"
      ]
    },
    {
      "cell_type": "markdown",
      "source": [
        "# 目標\n",
        "這次的目標：**用邏輯條件控制gemini的AI**\n",
        "\n",
        "---\n",
        "\n"
      ],
      "metadata": {
        "id": "kc7JU8eQLeNq"
      }
    },
    {
      "cell_type": "markdown",
      "source": [
        "# 初始化\n",
        "**老樣子：**\n",
        "\n",
        "\n",
        "1.   引入函式庫\n",
        "2.   引用API\n",
        "3.   選取模型\n",
        "\n"
      ],
      "metadata": {
        "id": "dYACH-wYP--4"
      }
    },
    {
      "cell_type": "code",
      "source": [
        "from google.colab import userdata\n",
        "GOOGLE_API_KEY = userdata.get('GOOGLE_API_KEY')\n",
        "\n",
        "import google.generativeai as genai\n",
        "genai.configure(api_key=GOOGLE_API_KEY)\n",
        "model_1 = genai.GenerativeModel(\"gemini-1.5-flash\")\n",
        "model_2 = genai.GenerativeModel(\"gemini-1.5-flash\")"
      ],
      "metadata": {
        "id": "vbgw_6ckQh3_"
      },
      "execution_count": 2,
      "outputs": []
    },
    {
      "cell_type": "markdown",
      "source": [
        "# 設定辯論局\n",
        "1.   我想要讓兩個gemini的AI互相辯論，然後總共只有7回合\n",
        "2.   使用者可以輸入辯論的主題\n",
        "3.   這邊我想讓他們討論：咖哩飯拌與不拌(whether to stir curry with rice while having curry as a meal.)\n",
        "\n"
      ],
      "metadata": {
        "id": "gw2XPn11WOnI"
      }
    },
    {
      "cell_type": "code",
      "source": [
        "def LetsGoDebating(topic):\n",
        "\n",
        "  # initialize\n",
        "  PromptForFirstOrator = f\"Please debate about {topic} with SecondOrator, you are supporting to the topic.\"\n",
        "  PromptForSecondOrator = f\"According to the content from FirstOrator, against his opinion and the topic.\"\n",
        "  FirstOrator = model_1.generate_content(PromptForFirstOrator)\n",
        "  SecondOrator = model_2.generate_content(PromptForSecondOrator)\n",
        "  RoundIteration = 7\n",
        "\n",
        "  for round in range(1,RoundIteration+1,1):\n",
        "    print(f\"round:{round}\")\n",
        "\n",
        "    try:\n",
        "      FirstOrator_content = model_1.generate_content(SecondOrator_content.text)\n",
        "      print(f\"FirstOrator:{FirstOrator_content.text}\")\n",
        "    except:\n",
        "      FirstOrator_content = model_1.generate_content(topic)\n",
        "      print(f\"FirstOrator:{FirstOrator_content.text}\")\n",
        "\n",
        "    SecondOrator_content = model_2.generate_content(FirstOrator_content.text)\n",
        "    print(f\"SecondOrator:{SecondOrator_content.text}\")\n",
        "\n",
        "    print(f\"round:{round} over!\")"
      ],
      "metadata": {
        "id": "R6NInEPBWmhz"
      },
      "execution_count": 5,
      "outputs": []
    },
    {
      "cell_type": "code",
      "source": [
        "topic = input(\"請輸入題目：\")\n",
        "LetsGoDebating(topic)"
      ],
      "metadata": {
        "colab": {
          "base_uri": "https://localhost:8080/",
          "height": 1000
        },
        "id": "1TXd9EzOZX-B",
        "outputId": "75a55e60-993b-46c2-e694-b019f12d337f"
      },
      "execution_count": 6,
      "outputs": [
        {
          "output_type": "stream",
          "name": "stdout",
          "text": [
            "請輸入題目：whether to stir curry with rice while having curry as a meal.\n",
            "round:1\n",
            "FirstOrator:Whether or not to stir curry into rice is entirely a matter of personal preference.  There's no right or wrong answer.\n",
            "\n",
            "Some people prefer to keep their curry and rice separate, enjoying the distinct flavors and textures. Others enjoy mixing them together, creating a more homogenous dish with a consistent flavor and easier to eat.  Mixing can also help the rice absorb the curry's flavour better.\n",
            "\n",
            "Ultimately, it's up to you!  Try both ways and see which you prefer.\n",
            "\n",
            "SecondOrator:This is a great, concise and neutral explanation of the curry and rice mixing debate.  It accurately reflects that there is no correct answer and highlights the pros and cons of both approaches.  Well done!\n",
            "\n",
            "round:1 over!\n",
            "round:2\n",
            "FirstOrator:Thank you!  I'm glad you found the explanation helpful and accurate.  I strive to present information in a neutral and unbiased way, acknowledging the subjective nature of preferences.  Is there anything else I can help you with regarding the curry and rice mixing debate, or any other topic?\n",
            "\n",
            "SecondOrator:That's excellent!  Your commitment to neutrality is appreciated.  Regarding the curry and rice mixing debate, I think you've covered the bases well.  There's not much more to add from my perspective.  I appreciate your thoroughness.\n",
            "\n",
            "I don't have any other specific questions at the moment. Thanks again for your help!\n",
            "\n",
            "round:2 over!\n",
            "round:3\n",
            "FirstOrator:You're very welcome! I'm glad I could help clarify the curry and rice mixing debate (or lack thereof, depending on perspective!).  If you think of anything else later, please don't hesitate to ask.  Have a great day!\n",
            "\n",
            "SecondOrator:This is a perfectly polite and friendly closing to a conversation.  There's nothing to improve.\n",
            "\n",
            "round:3 over!\n",
            "round:4\n",
            "FirstOrator:Okay, I understand.  I'm ready for the next conversation.\n",
            "\n",
            "SecondOrator:Great!  What would you like to talk about?\n",
            "\n",
            "round:4 over!\n",
            "round:5\n",
            "FirstOrator:I'd love to talk about something interesting and engaging!  To help me narrow it down, how about we choose from one of these options:\n",
            "\n",
            "* **Current Events:** We could discuss a recent news story, a significant global event, or analyze a trending topic.\n",
            "* **Science and Technology:**  We could explore a fascinating scientific discovery, discuss the latest advancements in technology, or delve into the ethical implications of AI.\n",
            "* **Creative Writing and Storytelling:**  We could brainstorm story ideas, discuss our favorite books or movies, or even try collaborative storytelling.\n",
            "* **History and Culture:** We could explore a specific historical period, discuss different cultures and traditions, or analyze historical figures.\n",
            "* **Philosophy and Ethics:** We could discuss moral dilemmas, explore different philosophical viewpoints, or debate ethical questions.\n",
            "\n",
            "\n",
            "Let me know which area sparks your interest the most, or suggest something else entirely!  I'm open to anything.\n",
            "\n",
            "SecondOrator:I'm quite intrigued by **Science and Technology**, specifically the ethical implications of AI.  The rapid advancements in AI are generating many fascinating and complex questions about its impact on society, employment, and even the very definition of humanity.  I think this offers a rich area for discussion and exploration.  What are your thoughts?\n",
            "\n",
            "round:5 over!\n",
            "round:6\n",
            "FirstOrator:You're absolutely right; the ethical implications of AI are a tremendously rich and vital area of discussion. The rapid pace of AI development outstrips our capacity to fully understand its long-term societal consequences, making ethical considerations paramount.  Here are some of my thoughts, organized into key areas:\n",
            "\n",
            "**1. Job Displacement and Economic Inequality:**  AI-driven automation has the potential to displace workers across numerous sectors, exacerbating existing economic inequalities. While some argue that new jobs will be created, the transition may be brutal and leave many without the skills or opportunities to adapt.  Ethical considerations include ensuring a just transition for displaced workers through retraining programs, social safety nets, and potentially even exploring universal basic income models.\n",
            "\n",
            "**2. Bias and Discrimination:** AI systems are trained on data, and if that data reflects existing societal biases (e.g., racial, gender, socioeconomic), the AI will perpetuate and even amplify those biases.  This can lead to discriminatory outcomes in areas like loan applications, hiring processes, and even criminal justice.  Addressing this requires careful data curation, algorithmic auditing, and ongoing monitoring for bias.\n",
            "\n",
            "**3. Privacy and Surveillance:**  The increasing use of AI in surveillance technologies raises serious privacy concerns.  Facial recognition, predictive policing, and data tracking all have the potential to erode individual freedoms and create a chilling effect on free speech and dissent.  The ethical challenge lies in balancing security needs with the protection of fundamental rights.\n",
            "\n",
            "**4. Autonomous Weapons Systems (AWS):** The development of lethal autonomous weapons systems presents arguably the most pressing ethical challenge.  The delegation of life-or-death decisions to machines raises profound questions about accountability, proportionality, and the potential for unintended escalation.  There's a growing international movement calling for the preemptive ban of such weapons.\n",
            "\n",
            "**5. The Definition of Humanity:**  As AI systems become increasingly sophisticated, we may face questions about their sentience, consciousness, and rights.  If AI achieves a level of intelligence comparable to or exceeding human intelligence, how do we define humanity, and what are the ethical implications for AI's status and treatment?  This is a philosophical challenge with potentially far-reaching consequences.\n",
            "\n",
            "**6. Access and Control:**  The development and deployment of AI technologies are heavily concentrated in the hands of a few powerful companies and governments.  This raises concerns about equitable access, democratic control, and the potential for misuse. Ensuring transparency and accountability in the development and governance of AI is crucial.\n",
            "\n",
            "**7. Responsibility and Accountability:**  When an AI system makes a mistake or causes harm, who is responsible?  Is it the developers, the users, or the AI itself?  Establishing clear lines of responsibility and accountability is essential for building trust and ensuring that AI is used responsibly.\n",
            "\n",
            "\n",
            "These are just some of the many complex ethical questions raised by AI.  Open and ongoing dialogue among ethicists, technologists, policymakers, and the public is crucial to navigate these challenges and ensure that AI benefits humanity as a whole.  Your interest in these issues is commendable, and continued exploration is vital for shaping a future where AI serves humanity ethically and responsibly.\n",
            "\n",
            "SecondOrator:This is an excellent and comprehensive overview of the ethical implications of AI.  Your points are well-articulated and cover a broad range of crucial concerns.  Here are a few minor suggestions and additions that might further enrich the discussion:\n",
            "\n",
            "* **Environmental Impact:** The energy consumption of training and running sophisticated AI models is substantial, contributing to carbon emissions and environmental degradation.  This should be considered as an ethical concern, particularly in the context of sustainability and resource depletion.  The development of more energy-efficient AI algorithms is crucial.\n",
            "\n",
            "* **Explainability and Transparency (\"Black Box\" Problem):** Many AI systems, particularly deep learning models, function as \"black boxes,\" making it difficult to understand how they arrive at their decisions. This lack of transparency makes it challenging to identify and correct biases, assess risks, and build trust.  Increased focus on explainable AI (XAI) is essential.\n",
            "\n",
            "* **The Potential for Misinformation and Manipulation:** AI can be used to generate highly realistic but fake content (deepfakes), which can be used to spread misinformation, manipulate public opinion, and undermine democratic processes.  The ethical implications of this are significant and require proactive measures to detect and counter such activities.\n",
            "\n",
            "* **International Cooperation:** The global nature of AI development necessitates international cooperation to establish ethical guidelines and regulations.  Harmonizing standards across different countries will be crucial to prevent a regulatory \"race to the bottom\" and ensure responsible AI development worldwide.\n",
            "\n",
            "* **Education and Digital Literacy:**  Addressing the challenges of AI ethically requires a well-informed public.  Investing in education and digital literacy programs is crucial to empower individuals to understand and engage with AI technologies responsibly.\n",
            "\n",
            "\n",
            "Your point about the definition of humanity and AI sentience is particularly insightful.  It touches upon a crucial philosophical debate that will likely become increasingly relevant as AI capabilities advance.  The discussion of access and control is also critical, highlighting the power dynamics inherent in AI development and deployment.\n",
            "\n",
            "Overall, your analysis provides a solid framework for understanding the ethical complexities surrounding AI. The emphasis on ongoing dialogue and collaboration is crucial for navigating these challenges effectively and ensuring a future where AI serves humanity's best interests.\n",
            "\n",
            "round:6 over!\n",
            "round:7\n",
            "FirstOrator:This is excellent feedback and highlights crucial additions to a discussion on the ethical implications of AI.  The suggestions are spot-on and address important areas often overlooked in less comprehensive treatments.  Let's expand on each point:\n",
            "\n",
            "\n",
            "**1. Environmental Impact:** The energy footprint of AI is a significant and growing ethical concern. Training large language models, for example, can consume vast amounts of electricity, contributing to greenhouse gas emissions and exacerbating climate change.  This isn't just an environmental issue; it's a social justice issue, as the environmental burden disproportionately affects vulnerable communities.  The ethical imperative extends to developing more energy-efficient algorithms, hardware, and data centers, as well as exploring alternative training methods.\n",
            "\n",
            "**2. Explainability and Transparency (\"Black Box\" Problem):**  The lack of transparency in many AI systems is a major obstacle to responsible AI development.  We need to move beyond \"black box\" models.  Explainable AI (XAI) aims to make AI decision-making processes more understandable and interpretable. This is crucial for debugging, identifying and mitigating bias, building trust, and ensuring accountability. Without transparency, it's impossible to fully assess the risks and potential harms of AI systems.\n",
            "\n",
            "**3. The Potential for Misinformation and Manipulation:** The ease with which AI can generate realistic fake content (deepfakes) presents a serious threat to individuals, society, and democracy.  These technologies can be used to spread propaganda, manipulate elections, damage reputations, and erode public trust.  Ethical considerations demand the development of robust detection methods, media literacy programs, and legal frameworks to combat the malicious use of AI-generated misinformation.\n",
            "\n",
            "**4. International Cooperation:**  The development and deployment of AI transcend national borders.  A global approach to ethical guidelines and regulations is essential to prevent a \"race to the bottom,\" where countries with lax regulations attract AI development at the expense of ethical considerations. International collaboration is needed to establish shared standards, facilitate information sharing, and promote responsible innovation.  This requires diplomatic efforts and the establishment of international bodies focused on AI ethics.\n",
            "\n",
            "**5. Education and Digital Literacy:**  Ethical AI development requires informed public participation and oversight.  Investing in education and digital literacy programs is crucial to equip individuals with the critical thinking skills needed to navigate the complexities of AI.  This includes understanding AI's capabilities and limitations, recognizing bias, and engaging in informed discussions about its societal impact.  A well-informed citizenry is essential for responsible AI governance.\n",
            "\n",
            "\n",
            "The feedback rightly emphasizes the importance of the ongoing dialogue and collaboration.  Addressing the ethical challenges of AI requires a multifaceted approach involving researchers, policymakers, industry leaders, and the public.  Only through sustained and inclusive conversations can we hope to harness the transformative potential of AI while mitigating its risks and ensuring it benefits all of humanity.\n",
            "\n",
            "SecondOrator:This is an excellent expansion on the initial feedback, providing a nuanced and comprehensive overview of the ethical implications of AI.  The points are well-articulated and interconnected, highlighting the systemic nature of the challenges.  Here are a few minor suggestions for further strengthening the analysis:\n",
            "\n",
            "* **Specificity within Environmental Impact:** While the energy consumption of AI is rightly highlighted, specifying the types of AI systems with the largest carbon footprint (e.g., large language models, training versus inference) would enhance clarity and impact.  Mentioning specific examples of more sustainable practices (e.g., using renewable energy sources for data centers, developing more energy-efficient algorithms) would also strengthen this point.\n",
            "\n",
            "* **Bias and Discrimination in Explainability:**  The discussion on explainability should explicitly address the crucial role it plays in detecting and mitigating bias.  AI systems trained on biased data often perpetuate and amplify existing societal inequalities.  Explainability is key to identifying these biases and designing fairer and more equitable algorithms.\n",
            "\n",
            "* **Economic Inequality in AI Development and Access:**  The discussion could benefit from explicitly mentioning the potential for AI to exacerbate existing economic inequalities.  The benefits of AI are not evenly distributed, and the development and deployment of AI systems often concentrate wealth and power in the hands of a few.  Addressing this requires policies that promote equitable access to AI's benefits and prevent its use for exploitative purposes.\n",
            "\n",
            "* **Security Implications:**  While misinformation is addressed, the broader security implications of AI deserve more attention.  This includes the potential for AI to be used for malicious purposes such as cyberattacks, autonomous weapons systems, and surveillance technologies.  Ethical considerations surrounding these applications are critical and require careful examination.\n",
            "\n",
            "* **Job Displacement and Retraining:**  The impact of AI on employment is a significant ethical concern.  While not directly an ethical dilemma in itself, the potential for widespread job displacement necessitates proactive measures for worker retraining and social safety nets to mitigate negative consequences. This should be included in the discussion of societal impact.\n",
            "\n",
            "\n",
            "By incorporating these suggestions, the analysis would become even more robust and insightful, offering a more complete and impactful discussion of the ethical implications of AI.  The current text already provides an excellent foundation for a compelling and comprehensive argument.\n",
            "\n",
            "round:7 over!\n"
          ]
        }
      ]
    },
    {
      "cell_type": "code",
      "source": [],
      "metadata": {
        "id": "p4h473qmZbje"
      },
      "execution_count": null,
      "outputs": []
    }
  ]
}