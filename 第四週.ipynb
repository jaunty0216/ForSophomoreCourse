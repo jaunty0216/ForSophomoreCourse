{
  "nbformat": 4,
  "nbformat_minor": 0,
  "metadata": {
    "colab": {
      "provenance": [],
      "authorship_tag": "ABX9TyOTczYwZGjT4N22QorajLv8",
      "include_colab_link": true
    },
    "kernelspec": {
      "name": "python3",
      "display_name": "Python 3"
    },
    "language_info": {
      "name": "python"
    }
  },
  "cells": [
    {
      "cell_type": "markdown",
      "metadata": {
        "id": "view-in-github",
        "colab_type": "text"
      },
      "source": [
        "<a href=\"https://colab.research.google.com/github/jaunty0216/ForSophomoreCourse/blob/main/%E7%AC%AC%E5%9B%9B%E9%80%B1.ipynb\" target=\"_parent\"><img src=\"https://colab.research.google.com/assets/colab-badge.svg\" alt=\"Open In Colab\"/></a>"
      ]
    },
    {
      "cell_type": "markdown",
      "source": [
        "# 目標\n",
        "這次的目標：**用邏輯條件控制gemini的AI**\n",
        "\n",
        "---\n",
        "\n"
      ],
      "metadata": {
        "id": "kc7JU8eQLeNq"
      }
    },
    {
      "cell_type": "markdown",
      "source": [
        "# 初始化\n",
        "**老樣子：**\n",
        "\n",
        "\n",
        "1.   引入函式庫\n",
        "2.   引用API\n",
        "3.   選取模型\n",
        "\n"
      ],
      "metadata": {
        "id": "dYACH-wYP--4"
      }
    },
    {
      "cell_type": "code",
      "source": [
        "from google.colab import userdata\n",
        "GOOGLE_API_KEY = userdata.get('GOOGLE_API_KEY')\n",
        "\n",
        "import google.generativeai as genai\n",
        "genai.configure(api_key=GOOGLE_API_KEY)\n",
        "model_1 = genai.GenerativeModel(\"gemini-1.5-flash\")\n",
        "model_2 = genai.GenerativeModel(\"gemini-1.5-flash\")"
      ],
      "metadata": {
        "id": "vbgw_6ckQh3_"
      },
      "execution_count": 2,
      "outputs": []
    },
    {
      "cell_type": "markdown",
      "source": [
        "# 設定辯論局\n",
        "1.   我想要讓兩個gemini的AI互相辯論，然後總共只有7回合\n",
        "2.   使用者可以輸入辯論的主題\n",
        "3.   這邊我想讓他們討論：咖哩飯拌與不拌\n",
        "\n"
      ],
      "metadata": {
        "id": "gw2XPn11WOnI"
      }
    },
    {
      "cell_type": "code",
      "source": [
        "def LetsGoDebating(topic):\n",
        "\n",
        "  # initialize\n",
        "  PromptForFirstOrator = f\"Please debate about {topic} with SecondOrator, you are supporting to the topic.\"\n",
        "  PromptForSecondOrator = f\"According to the content from FirstOrator, against his opinion and the topic.\"\n",
        "  FirstOrator = model_1.generate_content(PromptForFirstOrator)\n",
        "  SecondOrator = model_2.generate_content(PromptForSecondOrator)\n",
        "\n",
        "  for round in range(1,7,1):\n",
        "    print(f\"round:{round}\")\n",
        "\n",
        "    try:\n",
        "      FirstOrator_content = model_1.generate_content(SecondOrator_content.text)\n",
        "      print(f\"FirstOrator:{FirstOrator_content.text}\")\n",
        "    except:\n",
        "      FirstOrator_content = model_1.generate_content(topic)\n",
        "      print(f\"FirstOrator:{FirstOrator_content.text}\")\n",
        "\n",
        "    SecondOrator_content = model_2.generate_content(FirstOrator_content.text)\n",
        "    print(f\"SecondOrator:{SecondOrator_content.text}\")\n",
        "\n",
        "    print(f\"round:{round} over!\")"
      ],
      "metadata": {
        "id": "R6NInEPBWmhz"
      },
      "execution_count": 3,
      "outputs": []
    },
    {
      "cell_type": "code",
      "source": [
        "topic = input(\"請輸入題目：\")\n",
        "LetsGoDebating(topic)"
      ],
      "metadata": {
        "colab": {
          "base_uri": "https://localhost:8080/",
          "height": 783
        },
        "id": "1TXd9EzOZX-B",
        "outputId": "633ed2ec-e741-43d3-cd18-bc92bfd7bd9f"
      },
      "execution_count": 4,
      "outputs": [
        {
          "output_type": "stream",
          "name": "stdout",
          "text": [
            "請輸入題目：whether to stir curry with rice while having curry as a meal.\n",
            "round:1\n",
            "FirstOrator:Whether or not to stir curry into rice is entirely a matter of personal preference.  There's no right or wrong answer.\n",
            "\n",
            "Some people prefer to keep their curry and rice separate, allowing them to enjoy the distinct flavors and textures of each. Others like to mix them together, creating a more homogenous dish with a slightly altered consistency.  Mixing can also help the rice absorb more of the curry's flavor.\n",
            "\n",
            "Ultimately, you should do what you enjoy most!\n",
            "\n",
            "SecondOrator:This is a perfectly good and accurate explanation of the curry and rice mixing debate.  It's concise, neutral, and highlights the personal preference aspect effectively.  There's nothing to improve upon unless you want to add specific examples of how the texture changes when mixed (e.g., \"a creamier texture\") or further elaborate on the flavor profile differences.\n",
            "\n",
            "round:1 over!\n",
            "round:2\n",
            "FirstOrator:You're right, the explanation is already strong.  Adding detail about textural changes (e.g., \"mixing creates a creamier, more homogenous texture, while keeping it separate allows for contrasting bites of fluffy rice and rich curry\") and flavor profile differences (e.g., \"separating the components allows the distinct flavors of the rice and curry to be fully appreciated, whereas mixing can blend the flavors into a more unified taste\") would enhance it without sacrificing its neutrality or conciseness.  But the core message—that it's a matter of personal preference—remains paramount and well-stated.\n",
            "\n",
            "SecondOrator:This is a great assessment of the explanation.  You've accurately identified how adding specific sensory details (texture and flavor) would improve the description without losing its objective and concise nature.  The key takeaway – the subjectivity of the choice – remains clear and unaffected by these additions.  The suggested improvements elegantly elevate the explanation by providing a more nuanced and appealing understanding of the preference.\n",
            "\n",
            "round:2 over!\n",
            "round:3\n",
            "FirstOrator:This is excellent feedback!  It clearly and concisely praises the accuracy and effectiveness of the assessment while also highlighting the positive impact of the suggested improvements.  The phrasing is sophisticated and professional, making it a very satisfying evaluation.\n",
            "\n",
            "SecondOrator:Thank you! I'm glad you found the feedback helpful and well-written.  I appreciate your positive assessment of my response.\n",
            "\n",
            "round:3 over!\n",
            "round:4\n",
            "FirstOrator:You're very welcome! I'm glad I could be of assistance.\n",
            "\n",
            "SecondOrator:That's wonderful to hear!  Is there anything else I can help you with today?\n",
            "\n",
            "round:4 over!\n",
            "round:5\n",
            "FirstOrator:No, that's all for now. Thank you so much for your help!\n",
            "\n",
            "SecondOrator:You're very welcome!  Let me know if you need anything else in the future.\n",
            "\n",
            "round:5 over!\n",
            "round:6\n",
            "FirstOrator:You're welcome! I appreciate it.  I will.\n",
            "\n",
            "SecondOrator:Okay, great!  Let me know if you need anything else.\n",
            "\n",
            "round:6 over!\n"
          ]
        }
      ]
    },
    {
      "cell_type": "code",
      "source": [],
      "metadata": {
        "id": "p4h473qmZbje"
      },
      "execution_count": null,
      "outputs": []
    }
  ]
}