{
  "nbformat": 4,
  "nbformat_minor": 0,
  "metadata": {
    "colab": {
      "provenance": [],
      "include_colab_link": true
    },
    "kernelspec": {
      "name": "python3",
      "display_name": "Python 3"
    },
    "language_info": {
      "name": "python"
    }
  },
  "cells": [
    {
      "cell_type": "markdown",
      "metadata": {
        "id": "view-in-github",
        "colab_type": "text"
      },
      "source": [
        "<a href=\"https://colab.research.google.com/github/jaunty0216/ForSophomoreCourse/blob/main/%E7%AC%AC%E4%BA%8C%E9%80%B1_%E7%87%9F%E9%A4%8A%E8%A1%A8%E6%A0%BC_%E8%B7%A8%E5%B9%B3%E5%8F%B0%E5%88%B0GoogleSheet.ipynb\" target=\"_parent\"><img src=\"https://colab.research.google.com/assets/colab-badge.svg\" alt=\"Open In Colab\"/></a>"
      ]
    },
    {
      "cell_type": "code",
      "source": [
        "food_calories = {\n",
        "    \"grains\":{\n",
        "        \"rice\":200,\n",
        "        \"noodle\":250,\n",
        "    },\n",
        "    \"protein\":{\n",
        "        \"egg\":100,\n",
        "        \"beef\":500,\n",
        "    },\n",
        "}\n",
        "\n",
        "# 先定義出json格式的內容\n",
        "# 等號只會在一開始看到\n",
        "# 每個資料都會用冒號連結對應的值，並用逗號隔開，左邊是keys，右邊是values\n",
        "# 如果要連結內部的字典，用本來的名稱加上中括號，內部再放原始字典的keys即可，比方說，food_calories[\"grains\"]"
      ],
      "metadata": {
        "id": "TnfG95V4FVQ4"
      },
      "execution_count": 2,
      "outputs": []
    },
    {
      "cell_type": "code",
      "source": [
        "print(food_calories)\n",
        "print(food_calories.keys())\n",
        "print(food_calories.values())\n",
        "print(food_calories[\"grains\"])\n",
        "print(food_calories[\"grains\"].keys())\n",
        "print(food_calories[\"grains\"].values())\n",
        "# 確認沒有問題"
      ],
      "metadata": {
        "colab": {
          "base_uri": "https://localhost:8080/"
        },
        "id": "2M-yPNhdFz0K",
        "outputId": "bb387c3e-8030-40e0-f303-8cb420a91011"
      },
      "execution_count": 4,
      "outputs": [
        {
          "output_type": "stream",
          "name": "stdout",
          "text": [
            "{'grains': {'rice': 200, 'noodle': 250}, 'protein': {'egg': 100, 'beef': 500}}\n",
            "dict_keys(['grains', 'protein'])\n",
            "dict_values([{'rice': 200, 'noodle': 250}, {'egg': 100, 'beef': 500}])\n",
            "{'rice': 200, 'noodle': 250}\n",
            "dict_keys(['rice', 'noodle'])\n",
            "dict_values([200, 250])\n"
          ]
        }
      ]
    },
    {
      "cell_type": "code",
      "source": [
        "from google.colab import auth\n",
        "try:\n",
        "  auth.authenticate_user()\n",
        "  print(\"successfully authorized.\")\n",
        "except:\n",
        "  print(\"error\")\n",
        "# 驗證使用者"
      ],
      "metadata": {
        "colab": {
          "base_uri": "https://localhost:8080/"
        },
        "id": "i4lZ4w0kHj37",
        "outputId": "49adbe91-5501-48e5-87a9-e865e3642c15"
      },
      "execution_count": null,
      "outputs": [
        {
          "output_type": "stream",
          "name": "stdout",
          "text": [
            "successfully authorized.\n"
          ]
        }
      ]
    },
    {
      "cell_type": "code",
      "source": [
        "content = food_calories['grains'].values()\n",
        "print(content)\n",
        "print(list(content))\n",
        "# list的功能，是把內容變成array的形式印出"
      ],
      "metadata": {
        "colab": {
          "base_uri": "https://localhost:8080/"
        },
        "id": "H6ojWjK6Ju0y",
        "outputId": "626da088-f7af-4ebe-8f38-dce5ed205ec1"
      },
      "execution_count": null,
      "outputs": [
        {
          "output_type": "stream",
          "name": "stdout",
          "text": [
            "dict_values([200, 250])\n",
            "[200, 250]\n"
          ]
        }
      ]
    },
    {
      "cell_type": "code",
      "source": [
        "import pandas as pd\n",
        "df = pd.DataFrame(food_calories)\n",
        "print(df)\n",
        "# df的意思是把字典轉換成表格\n",
        "# df stands for 資料框架:dataframe"
      ],
      "metadata": {
        "colab": {
          "base_uri": "https://localhost:8080/"
        },
        "id": "3F6AWXw2LvtC",
        "outputId": "cdc0754f-fef7-4c6d-b4cf-c2ae71c83e8a"
      },
      "execution_count": null,
      "outputs": [
        {
          "output_type": "stream",
          "name": "stdout",
          "text": [
            "        grains  protein\n",
            "rice     200.0      NaN\n",
            "noodle   250.0      NaN\n",
            "egg        NaN    100.0\n",
            "beef       NaN    500.0\n"
          ]
        }
      ]
    },
    {
      "cell_type": "code",
      "source": [
        "import pandas as pd\n",
        "df = pd.DataFrame(list(food_calories),columns=[\"Goods\"])\n",
        "print(df)\n",
        "# df的意思是把字典轉換成表格\n",
        "# df stands for 資料框架:dataframe"
      ],
      "metadata": {
        "colab": {
          "base_uri": "https://localhost:8080/"
        },
        "id": "kEeU-x2eMqnA",
        "outputId": "6b7a22c4-78e9-4490-eec9-e28ef6ea2b40"
      },
      "execution_count": null,
      "outputs": [
        {
          "output_type": "stream",
          "name": "stdout",
          "text": [
            "     Goods\n",
            "0   grains\n",
            "1  protein\n"
          ]
        }
      ]
    },
    {
      "cell_type": "code",
      "source": [
        "df_all = []\n",
        "for category,items in food_calories.items(): #這個items函數會拆第一次,items的資料型態還是字典\n",
        "  for food,calories in items.items(): #這裡拆第二次\n",
        "    df_all.append([category,food,calories])\n",
        "\n",
        "df_all = pd.DataFrame(df_all,columns=[\"Category\",\"Food\",\"Calories\"])\n",
        "print(df_all)"
      ],
      "metadata": {
        "colab": {
          "base_uri": "https://localhost:8080/"
        },
        "id": "1ebRApi8Xtk2",
        "outputId": "7ccf442d-0816-4357-a1a6-aa6599481d88"
      },
      "execution_count": null,
      "outputs": [
        {
          "output_type": "stream",
          "name": "stdout",
          "text": [
            "  Category    Food  Calories\n",
            "0   grains    rice       200\n",
            "1   grains  noodle       250\n",
            "2  protein     egg       100\n",
            "3  protein    beef       500\n"
          ]
        }
      ]
    },
    {
      "cell_type": "code",
      "source": [
        "import pandas as pd\n",
        "import gspread #\"gspread\" = \"google spreadsheet\"\n",
        "from google.auth import default #為甚麼是default?\n",
        "creds, _ = default() #底線的用途是忽略，default函數會回傳兩個值，但我們只要第一個，所以第二個忽略\n",
        "from gspread_dataframe import set_with_dataframe #基本設計功能\n",
        "\n",
        "gc = gspread.authorize(creds)#一些認證用的碗糕\n",
        "gsheets = gc.open_by_url('https://docs.google.com/spreadsheets/d/1y6mUaMqEbuY1X8aIhyqO_BYHuHaxLVDVVpeja7dE7mU/edit?usp=sharing')\n",
        "worksheet = gsheets.get_worksheet(0) #取得第一張工作表\n",
        "set_with_dataframe(worksheet,df_all)"
      ],
      "metadata": {
        "id": "XxH8VlhbP7YG"
      },
      "execution_count": null,
      "outputs": []
    },
    {
      "cell_type": "markdown",
      "source": [
        "**上面是把資料寫入google spreadsheet的操作**"
      ],
      "metadata": {
        "id": "DS66TwTgZoyK"
      }
    },
    {
      "cell_type": "code",
      "source": [
        "import pandas as pd\n",
        "\n",
        "worksheet_money = gsheets.get_worksheet(1) #先設定想要讀哪一張工作表，一個gsheets有很多張worksheet，所以要講是哪一張\n",
        "data_money = worksheet_money.get_all_values() #資料是 = 特定的那一張，得到全部的值()\n",
        "data_money_all = pd.DataFrame(data_money) #透過pandas的dataframe功能，把資料轉換成人看得懂的樣子\n",
        "print(data_money_all)"
      ],
      "metadata": {
        "colab": {
          "base_uri": "https://localhost:8080/"
        },
        "id": "Bv-aNAJcZ0en",
        "outputId": "642e308b-fc28-41fa-85c0-471bb615fefa"
      },
      "execution_count": null,
      "outputs": [
        {
          "output_type": "stream",
          "name": "stdout",
          "text": [
            "           0            1               2                   3               4\n",
            "0         日期  Jaunty Inc.  Banana Ltd. Co  BeefNoodle Ltd. Co  monkey company\n",
            "1   2019/8/7         6.73          17.431              74.994          78.558\n",
            "2   2019/8/8       40.672          50.699              74.146           76.13\n",
            "3   2019/8/9        6.255          28.954               5.266          47.933\n",
            "4  2019/8/10       81.897          83.802              17.428          58.174\n",
            "5  2019/8/11       92.145          50.886              83.485          11.301\n",
            "6  2019/8/12       73.096          31.109               9.705          92.983\n"
          ]
        }
      ]
    },
    {
      "cell_type": "markdown",
      "source": [
        "**上面是從google spreadsheet中讀取資料的操作**"
      ],
      "metadata": {
        "id": "a9dW7Vl-cpyZ"
      }
    },
    {
      "cell_type": "code",
      "source": [
        "import pandas as pd\n",
        "\n",
        "worksheet_money = gsheets.get_worksheet(1) #先設定想要讀哪一張工作表，一個gsheets有很多張worksheet，所以要講是哪一張\n",
        "data_money = worksheet_money.get_all_values() #資料是 = 特定的那一張，得到全部的值()\n",
        "data_money_all = pd.DataFrame(data_money) #透過pandas的dataframe功能，把資料轉換成人看得懂的樣子\n",
        "\n",
        "# 設定第一行為標題（欄位名稱）\n",
        "data_money_all.columns = data_money_all.iloc[0]  # 第一行設為欄位名稱\n",
        "data_money_all = data_money_all[1:]  # 刪除第一行，保留數據部分\n",
        "\n",
        "# 重設索引\n",
        "data_money_all.reset_index(drop=True, inplace=True)\n",
        "\n",
        "data_money_part = data_money_all[data_money_all['日期'] == \"2019/8/11\"]\n",
        "\n",
        "print(data_money_part)\n",
        "\n",
        "worksheet_spy = gsheets.get_worksheet(2)\n",
        "data_spy = data_money_part\n",
        "set_with_dataframe(worksheet_spy,data_spy)"
      ],
      "metadata": {
        "colab": {
          "base_uri": "https://localhost:8080/"
        },
        "id": "NnbgKtTYgAny",
        "outputId": "0a214a0d-9d22-4786-c715-18a8424ee273"
      },
      "execution_count": null,
      "outputs": [
        {
          "output_type": "stream",
          "name": "stdout",
          "text": [
            "0         日期 Jaunty Inc. Banana Ltd. Co BeefNoodle Ltd. Co monkey company\n",
            "4  2019/8/11      35.418          4.438             63.684         29.394\n"
          ]
        }
      ]
    },
    {
      "cell_type": "markdown",
      "source": [
        "**以上操作是把一個表格的資料讀取後做了一些篩選處理，並把最後的結果存放至另外一張google spreadsheet。**"
      ],
      "metadata": {
        "id": "9DW7ZO6Bmwbb"
      }
    },
    {
      "cell_type": "code",
      "source": [],
      "metadata": {
        "id": "KrVOYdj1na0l"
      },
      "execution_count": null,
      "outputs": []
    }
  ]
}