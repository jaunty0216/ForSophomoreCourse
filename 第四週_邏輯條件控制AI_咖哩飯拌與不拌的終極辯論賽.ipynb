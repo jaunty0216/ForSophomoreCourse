{
  "nbformat": 4,
  "nbformat_minor": 0,
  "metadata": {
    "colab": {
      "provenance": [],
      "toc_visible": true,
      "authorship_tag": "ABX9TyNBHNf97bGAErYGKVr8gMTM",
      "include_colab_link": true
    },
    "kernelspec": {
      "name": "python3",
      "display_name": "Python 3"
    },
    "language_info": {
      "name": "python"
    }
  },
  "cells": [
    {
      "cell_type": "markdown",
      "metadata": {
        "id": "view-in-github",
        "colab_type": "text"
      },
      "source": [
        "<a href=\"https://colab.research.google.com/github/jaunty0216/ForSophomoreCourse/blob/main/%E7%AC%AC%E5%9B%9B%E9%80%B1_%E9%82%8F%E8%BC%AF%E6%A2%9D%E4%BB%B6%E6%8E%A7%E5%88%B6AI_%E5%92%96%E5%93%A9%E9%A3%AF%E6%8B%8C%E8%88%87%E4%B8%8D%E6%8B%8C%E7%9A%84%E7%B5%82%E6%A5%B5%E8%BE%AF%E8%AB%96%E8%B3%BD.ipynb\" target=\"_parent\"><img src=\"https://colab.research.google.com/assets/colab-badge.svg\" alt=\"Open In Colab\"/></a>"
      ]
    },
    {
      "cell_type": "markdown",
      "source": [
        "# 目標\n",
        "這次的目標：**用邏輯條件控制gemini的AI**\n",
        "\n",
        "---\n",
        "\n"
      ],
      "metadata": {
        "id": "kc7JU8eQLeNq"
      }
    },
    {
      "cell_type": "markdown",
      "source": [
        "# 初始化\n",
        "**老樣子：**\n",
        "\n",
        "\n",
        "1.   引入函式庫\n",
        "2.   引用API\n",
        "3.   選取模型\n",
        "\n"
      ],
      "metadata": {
        "id": "dYACH-wYP--4"
      }
    },
    {
      "cell_type": "code",
      "source": [
        "from google.colab import userdata\n",
        "GOOGLE_API_KEY = userdata.get('GOOGLE_API_KEY')\n",
        "\n",
        "import google.generativeai as genai\n",
        "genai.configure(api_key=GOOGLE_API_KEY)\n",
        "model_1 = genai.GenerativeModel(\"gemini-1.5-flash\")\n",
        "model_2 = genai.GenerativeModel(\"gemini-1.5-flash\")"
      ],
      "metadata": {
        "id": "vbgw_6ckQh3_"
      },
      "execution_count": 16,
      "outputs": []
    },
    {
      "cell_type": "markdown",
      "source": [
        "# 準備紀錄辯論的資料工具\n",
        "將資料記錄到**google sheet**裡面\n",
        "\n",
        "\n",
        "1.   先登入帳號\n",
        "2.   連結試算表\n",
        "3.   紀錄資料(在辯論過程中)\n",
        "\n"
      ],
      "metadata": {
        "id": "myASSqyhtx6F"
      }
    },
    {
      "cell_type": "code",
      "source": [
        "# 登入，驗證帳號\n",
        "from google.colab import auth\n",
        "\n",
        "try:\n",
        "  auth.authenticate_user()\n",
        "  print(\"successfully accessed!\")\n",
        "except:\n",
        "  print(\"error\")\n",
        "\n",
        "# 載入google sheet與相關的函式庫\n",
        "from google.auth import default\n",
        "import gspread\n",
        "\n",
        "creds ,_ = default()\n",
        "gc = gspread.authorize(creds)\n",
        "\n",
        "# 載入google sheet\n",
        "try:\n",
        "  ProgrammingWeek4 = gc.open_by_url(\"https://docs.google.com/spreadsheets/d/161euJffjihgIKrZRsuhH6uJum3igq4cJ5kyqXmPup2Q/edit?usp=sharing\")\n",
        "  RecordingSheet = ProgrammingWeek4.get_worksheet(0)\n",
        "  print(\"successfully accessed the worksheet!\")\n",
        "except:\n",
        "  print(\"error\")"
      ],
      "metadata": {
        "id": "jMZlkf1a3FR5",
        "outputId": "26ab4e9c-6d68-46a9-de4b-bac78d5c9070",
        "colab": {
          "base_uri": "https://localhost:8080/"
        }
      },
      "execution_count": 76,
      "outputs": [
        {
          "output_type": "stream",
          "name": "stdout",
          "text": [
            "successfully accessed!\n",
            "successfully accessed the worksheet!\n"
          ]
        }
      ]
    },
    {
      "cell_type": "markdown",
      "source": [
        "# 設定辯論局\n",
        "1.   我想要讓兩個gemini的AI互相辯論，然後總共只有7回合\n",
        "2.   使用者可以輸入辯論的主題\n",
        "3.   這邊我想讓他們討論：咖哩飯拌與不拌(whether to stir curry with rice while having curry as a meal.)\n",
        "\n"
      ],
      "metadata": {
        "id": "gw2XPn11WOnI"
      }
    },
    {
      "cell_type": "code",
      "source": [
        "def LetsGoDebating(topic):\n",
        "\n",
        "  # 初始化\n",
        "  PromptForFirstOrator = f\"Please debate about {topic} with SecondOrator, you are supporting to the topic.\"\n",
        "  PromptForSecondOrator = f\"According to the content from FirstOrator, against his opinion and the topic.\"\n",
        "  FirstOrator = model_1.generate_content(PromptForFirstOrator)\n",
        "  SecondOrator = model_2.generate_content(PromptForSecondOrator)\n",
        "  RoundIteration = 7\n",
        "  current_row = 1\n",
        "\n",
        "  # 把辯論資料寫到目標的google sheet\n",
        "  from io import StringIO\n",
        "  from gspread_dataframe import set_with_dataframe\n",
        "  import pandas as pd\n",
        "\n",
        "  #AssignedSheet = ProgrammingWeek4.get_worksheet(0) # Get the worksheet outside the loop\n",
        "\n",
        "  for round in range(1,RoundIteration+1,1):\n",
        "    print(f\"round:{round}\")\n",
        "\n",
        "    try:\n",
        "      FirstOrator_content = model_1.generate_content(SecondOrator_content.text)\n",
        "      print(f\"FirstOrator:{FirstOrator_content.text}\")\n",
        "      DebatingData = pd.DataFrame([FirstOrator_content.text], columns=['Debate Text']) # Create DataFrame\n",
        "      set_with_dataframe(RecordingSheet, DebatingData, row=current_row, col=1,include_index=False, include_column_header=False) # Append data\n",
        "    except:\n",
        "      FirstOrator_content = model_1.generate_content(topic)\n",
        "      print(f\"FirstOrator:{FirstOrator_content.text}\")\n",
        "      DebatingData = pd.DataFrame([FirstOrator_content.text], columns=['Debate Text']) # Create DataFrame\n",
        "      set_with_dataframe(RecordingSheet, DebatingData, row=current_row, col=1,include_index=False, include_column_header=False) # Append data\n",
        "\n",
        "    SecondOrator_content = model_2.generate_content(FirstOrator_content.text)\n",
        "    print(f\"SecondOrator:{SecondOrator_content.text}\")\n",
        "    DebatingData = pd.DataFrame([SecondOrator_content.text], columns=['Debate Text']) # Create DataFrame\n",
        "    set_with_dataframe(RecordingSheet, DebatingData, row=current_row, col=1,include_index=False, include_column_header=False) # Append data\n",
        "\n",
        "    print(f\"round:{round} over!\")\n"
      ],
      "metadata": {
        "id": "R6NInEPBWmhz"
      },
      "execution_count": 75,
      "outputs": []
    },
    {
      "cell_type": "code",
      "source": [
        "topic = input(\"請輸入題目：\")\n",
        "LetsGoDebating(topic)"
      ],
      "metadata": {
        "colab": {
          "base_uri": "https://localhost:8080/",
          "height": 892
        },
        "id": "1TXd9EzOZX-B",
        "outputId": "44c812cf-610a-4956-8ea6-825e60233358",
        "collapsed": true
      },
      "execution_count": 73,
      "outputs": [
        {
          "output_type": "stream",
          "name": "stdout",
          "text": [
            "請輸入題目：whether to stir curry with rice while having curry as a meal.\n",
            "round:1\n",
            "FirstOrator:Whether or not to stir curry into rice is entirely a matter of personal preference.  There's no right or wrong answer.\n",
            "\n",
            "Some people prefer to keep the rice and curry separate, enjoying the distinct textures and flavors. Others like to mix them together for a more homogenous, and often more flavorful, experience.  Mixing can also help the rice absorb some of the curry's delicious sauce.\n",
            "\n",
            "Ultimately, it's up to you!  Try both ways and see which you enjoy more.\n",
            "\n",
            "SecondOrator:This is a perfectly good explanation of the issue.  It's concise, covers both sides of the argument fairly, and ends with a helpful suggestion.  There's nothing I would change.\n",
            "\n",
            "round:1 over!\n",
            "round:2\n",
            "FirstOrator:Okay, I understand.  Since you're satisfied with the explanation and don't want any changes, I won't offer any suggestions.  Is there anything else I can help you with?\n",
            "\n",
            "SecondOrator:No, thank you.  I appreciate your help.\n",
            "\n",
            "round:2 over!\n",
            "round:3\n",
            "FirstOrator:You're welcome!  Is there anything else I can assist you with?\n",
            "\n",
            "SecondOrator:No, thank you!  I appreciate your help.\n",
            "\n",
            "round:3 over!\n",
            "round:4\n",
            "FirstOrator:You're welcome!  Is there anything else I can assist you with today?\n",
            "\n",
            "SecondOrator:No, thank you! I appreciate your help.\n",
            "\n",
            "round:4 over!\n",
            "round:5\n",
            "FirstOrator:You're welcome!  Is there anything else I can assist you with today?\n",
            "\n",
            "SecondOrator:No, thank you!  I appreciate your help.\n",
            "\n",
            "round:5 over!\n",
            "round:6\n",
            "FirstOrator:You're welcome!  Is there anything else I can assist you with today?\n",
            "\n",
            "SecondOrator:No, thank you!  I appreciate your help.\n",
            "\n",
            "round:6 over!\n",
            "round:7\n",
            "FirstOrator:You're welcome!  Is there anything else I can assist you with today?\n",
            "\n",
            "SecondOrator:No, thank you!  I appreciate your help.\n",
            "\n",
            "round:7 over!\n"
          ]
        }
      ]
    },
    {
      "cell_type": "markdown",
      "source": [
        "# 總結\n",
        "我學到了甚麼呢?"
      ],
      "metadata": {
        "id": "jZmiLp_8IKVt"
      }
    },
    {
      "cell_type": "markdown",
      "source": [
        "1.   一開始\n",
        "  *   創建兩個角色：把引入模型的指令用兩次，並分配給不同的model\n",
        "2.   辯論期間\n",
        "  *   使用f string來簡化文字輸入輸出\n",
        "\n",
        "\n",
        "\n"
      ],
      "metadata": {
        "id": "D3TsI0wrIXC0"
      }
    }
  ]
}