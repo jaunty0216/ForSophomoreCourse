{
  "nbformat": 4,
  "nbformat_minor": 0,
  "metadata": {
    "colab": {
      "provenance": [],
      "toc_visible": true,
      "authorship_tag": "ABX9TyMJU4bArD76x6vddc7ntaxo",
      "include_colab_link": true
    },
    "kernelspec": {
      "name": "python3",
      "display_name": "Python 3"
    },
    "language_info": {
      "name": "python"
    }
  },
  "cells": [
    {
      "cell_type": "markdown",
      "metadata": {
        "id": "view-in-github",
        "colab_type": "text"
      },
      "source": [
        "<a href=\"https://colab.research.google.com/github/jaunty0216/ForSophomoreCourse/blob/main/%E7%AC%AC%E4%BA%94%E9%80%B1.ipynb\" target=\"_parent\"><img src=\"https://colab.research.google.com/assets/colab-badge.svg\" alt=\"Open In Colab\"/></a>"
      ]
    },
    {
      "cell_type": "markdown",
      "source": [
        "# 目標\n",
        "\n",
        "\n",
        "---\n",
        "\n",
        "\n",
        "這次的目標：**把表格資料視覺化**"
      ],
      "metadata": {
        "id": "Get9AwaiN3Ed"
      }
    },
    {
      "cell_type": "markdown",
      "source": [
        "# 匯入資料\n",
        "我們要**上傳csv檔**"
      ],
      "metadata": {
        "id": "0vR5gsZ2O468"
      }
    },
    {
      "cell_type": "code",
      "source": [
        "from google.colab import files\n",
        "UploadedFile = files.upload()"
      ],
      "metadata": {
        "id": "zqlshSmSPLmr"
      },
      "execution_count": null,
      "outputs": []
    }
  ]
}