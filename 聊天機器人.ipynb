{
  "nbformat": 4,
  "nbformat_minor": 0,
  "metadata": {
    "colab": {
      "provenance": [],
      "authorship_tag": "ABX9TyMAxkaLXQ+Ib4+pIfZz9ns7",
      "include_colab_link": true
    },
    "kernelspec": {
      "name": "python3",
      "display_name": "Python 3"
    },
    "language_info": {
      "name": "python"
    }
  },
  "cells": [
    {
      "cell_type": "markdown",
      "metadata": {
        "id": "view-in-github",
        "colab_type": "text"
      },
      "source": [
        "<a href=\"https://colab.research.google.com/github/jaunty0216/ForSophomoreCourse/blob/main/%E8%81%8A%E5%A4%A9%E6%A9%9F%E5%99%A8%E4%BA%BA.ipynb\" target=\"_parent\"><img src=\"https://colab.research.google.com/assets/colab-badge.svg\" alt=\"Open In Colab\"/></a>"
      ]
    },
    {
      "cell_type": "markdown",
      "source": [
        "你好早安"
      ],
      "metadata": {
        "id": "bkQ8nFGpUT7r"
      }
    },
    {
      "cell_type": "code",
      "source": [
        "from google.colab import userdata #從這裡引入使用者資料\n",
        "GOOGLE_API_KEY = userdata.get('GOOGLE_API_KEY') #取得自己的apikey\n",
        "\n",
        "import google.generativeai as genai #這裡引用模型\n",
        "genai.configure(api_key = GOOGLE_API_KEY) #驗證api，有效才能往下進行\n",
        "model = genai.GenerativeModel(\"gemini-1.5-flash\") #有很多模型，哪一個?\n",
        "\n",
        "prompt = \"write me a short story about a pan\" #prompt\n",
        "response = model.generate_content(prompt) #根據prompt做回應\n",
        "print(response.text)  #輸出"
      ],
      "metadata": {
        "colab": {
          "base_uri": "https://localhost:8080/",
          "height": 245
        },
        "id": "v1RDbL2RaA78",
        "outputId": "03384ba1-b5c1-4424-d3be-1da22398e30e"
      },
      "execution_count": null,
      "outputs": [
        {
          "output_type": "stream",
          "name": "stdout",
          "text": [
            "The old frying pan, affectionately nicknamed \"Rusty\" by its owner, Elara, had seen better days.  Its once-gleaming surface was now a tapestry of scorch marks, a testament to countless breakfasts, lunches, and the occasional ill-advised attempt at a crème brûlée.  A dent, a proud battle scar from a rogue potato, marred its side.  But Rusty wasn't merely a vessel; it was a confidante, a silent witness to Elara's life.\n",
            "\n",
            "Elara, a baker with flour perpetually dusting her apron, had inherited Rusty from her grandmother.  It wasn't fancy; no expensive nonstick coating, just sturdy cast iron, seasoned over decades.  But it held the warmth of memory, the ghost of her grandmother's hands stirring pancake batter within its depths.\n",
            "\n",
            "One morning, as Elara prepared her usual sourdough pancakes, a young woman named Maya knocked on her door. Maya was a food blogger, seeking out authentic recipes and the stories behind them.  She was captivated by the scent of baking bread and the sight of Rusty, its aged patina gleaming under the kitchen light.\n",
            "\n",
            "Elara, initially hesitant, found herself sharing stories as she cooked. She recounted how Rusty had endured countless family gatherings, how it had sizzled under the watchful eye of her grandmother, how its handle had grown warm with the touch of her grandfather's hand as he flipped pancakes for his grandchildren.  With each story, the chipped paint and the darkened iron seemed to glow with a newfound vibrancy.\n",
            "\n",
            "Maya listened, mesmerized, taking copious notes.  She photographed Rusty from every angle, capturing its imperfections with a reverence that surprised Elara. The blog post that followed was a sensation.  \"Rusty's Pancakes: A Recipe Steeped in History,\" it was titled, and it featured not only the pancake recipe but also Elara's heartwarming story of family, love, and a trusty old pan.\n",
            "\n",
            "The post went viral.  People wrote to Elara, moved by the simple tale of a pan and the life it had touched.  Rusty, the once-ordinary frying pan, became a symbol of something larger – a connection to the past, a reminder of the enduring power of simple things, and the stories they hold.  And Elara, she continued to bake, using Rusty, the old pan that whispered tales of generations past, with every flip of the pancake.\n",
            "\n"
          ]
        }
      ]
    }
  ]
}