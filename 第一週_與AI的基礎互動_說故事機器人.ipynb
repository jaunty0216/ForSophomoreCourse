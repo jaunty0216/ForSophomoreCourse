{
  "nbformat": 4,
  "nbformat_minor": 0,
  "metadata": {
    "colab": {
      "provenance": [],
      "authorship_tag": "ABX9TyOmfuMMPXsY5LFpg6psVEEQ",
      "include_colab_link": true
    },
    "kernelspec": {
      "name": "python3",
      "display_name": "Python 3"
    },
    "language_info": {
      "name": "python"
    }
  },
  "cells": [
    {
      "cell_type": "markdown",
      "metadata": {
        "id": "view-in-github",
        "colab_type": "text"
      },
      "source": [
        "<a href=\"https://colab.research.google.com/github/jaunty0216/ForSophomoreCourse/blob/main/%E7%AC%AC%E4%B8%80%E9%80%B1_%E8%88%87AI%E7%9A%84%E5%9F%BA%E7%A4%8E%E4%BA%92%E5%8B%95_%E8%AA%AA%E6%95%85%E4%BA%8B%E6%A9%9F%E5%99%A8%E4%BA%BA.ipynb\" target=\"_parent\"><img src=\"https://colab.research.google.com/assets/colab-badge.svg\" alt=\"Open In Colab\"/></a>"
      ]
    },
    {
      "cell_type": "markdown",
      "source": [
        "# 目標\n",
        "這次的目標：**運用gemini的AI，生成一篇故事**\n",
        "\n",
        "---\n",
        "\n"
      ],
      "metadata": {
        "id": "kSPGpEyQLvLv"
      }
    },
    {
      "cell_type": "markdown",
      "source": [
        "# 初始設定\n",
        "**引入API**"
      ],
      "metadata": {
        "id": "uIMqacP_bXl1"
      }
    },
    {
      "cell_type": "code",
      "source": [
        "from google.colab import userdata #從這裡引入使用者資料\n",
        "GOOGLE_API_KEY = userdata.get(\"GOOGLE_API_KEY\") #取得自己的apikey"
      ],
      "metadata": {
        "id": "RvvjYaNro5CN"
      },
      "execution_count": null,
      "outputs": []
    },
    {
      "cell_type": "markdown",
      "source": [
        "# 選擇模型\n",
        "**導入gemini**"
      ],
      "metadata": {
        "id": "HfHicBD_bwnF"
      }
    },
    {
      "cell_type": "code",
      "source": [
        "import google.generativeai as genai #這裡引用模型\n",
        "genai.configure(api_key = GOOGLE_API_KEY) #驗證api，有效才能往下進行\n",
        "model = genai.GenerativeModel(\"gemini-1.5-flash\") #有很多模型，哪一個?"
      ],
      "metadata": {
        "id": "T9reJLuFbo0a"
      },
      "execution_count": null,
      "outputs": []
    },
    {
      "cell_type": "markdown",
      "source": [
        "# 根據回應生成內容"
      ],
      "metadata": {
        "id": "vzw-QoP4cAYO"
      }
    },
    {
      "cell_type": "code",
      "source": [
        "prompt = input(\"Give a prompt to create a story:\") #prompt\n",
        "response = model.generate_content(prompt) #根據prompt做回應\n",
        "print(response.text)  #輸出"
      ],
      "metadata": {
        "id": "wuYDA0stb-tB",
        "outputId": "0502d11e-af56-4c92-b6e6-823491bed14f",
        "colab": {
          "base_uri": "https://localhost:8080/",
          "height": 297
        }
      },
      "execution_count": null,
      "outputs": [
        {
          "output_type": "stream",
          "name": "stdout",
          "text": [
            "Give a prompt to create a story:write a short story about a fish\n",
            "Finley the fish wasn't like the other fish in the coral reef. While they chased shimmering morsels and gossiped amongst the anemones, Finley dreamt of the open ocean. He yearned for the vast, unknown expanse beyond the reef's familiar embrace.  His scales, a dazzling iridescent blue, seemed to shimmer with a restless energy that mirrored his spirit.\n",
            "\n",
            "The other fish called him \"Finley the Faraway.\"  They chuckled at his stories of far-off lands – places they'd only ever seen in the fleeting shadows cast by passing whales.  They couldn't comprehend his longing for a world without the comforting familiarity of their reef.\n",
            "\n",
            "One day, a powerful current, a rogue wave of the ocean's temper, ripped through the reef.  Finley, swept away in a dizzying rush of water, felt a surge of fear, then… exhilaration. He was free.\n",
            "\n",
            "The open ocean was terrifying and magnificent.  He saw creatures of unimaginable size and beauty – giant manta rays that glided like underwater galleons, schools of silver fish that sparkled like a living constellation. He faced predators, narrowly escaping the gaping maw of a barracuda, his heart pounding a frantic rhythm against his ribs.\n",
            "\n",
            "But he also found things he'd never imagined. Bioluminescent plankton painted the night in ethereal colours.  He discovered a hidden underwater canyon, teeming with life completely different from his reef.  He learned to navigate by the currents, to read the subtle shifts in the water's temperature, to trust his instincts.\n",
            "\n",
            "Months later, a storm drove him back towards the familiar shape of the reef. He was battered, bruised, but his spirit shone brighter than ever.  He swam towards the reef, not with the yearning of a restless dreamer, but with the wisdom of an adventurer.\n",
            "\n",
            "The other fish greeted him with a mixture of surprise and awe. Finley the Faraway had returned, not just with tales of distant lands, but with the strength and wisdom earned in facing the vast, unpredictable ocean.  He no longer dreamt of the open sea; he'd lived it, and he was ready to share his extraordinary journey.  And this time, they listened.\n",
            "\n"
          ]
        }
      ]
    },
    {
      "cell_type": "markdown",
      "source": [
        "# 總結\n",
        "**用到的技術**"
      ],
      "metadata": {
        "id": "LCp3BcpMcoBV"
      }
    },
    {
      "cell_type": "markdown",
      "source": [
        "\n",
        "\n",
        "1.   引入api\n",
        "2.   選擇模型\n",
        "3.   和api互動：輸入prompt\n",
        "\n"
      ],
      "metadata": {
        "id": "ll_MwF0Pctj9"
      }
    }
  ]
}