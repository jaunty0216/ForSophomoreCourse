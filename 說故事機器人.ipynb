{
  "nbformat": 4,
  "nbformat_minor": 0,
  "metadata": {
    "colab": {
      "provenance": [],
      "authorship_tag": "ABX9TyNKPz5o4ge3hCNnDDZw1S6C",
      "include_colab_link": true
    },
    "kernelspec": {
      "name": "python3",
      "display_name": "Python 3"
    },
    "language_info": {
      "name": "python"
    }
  },
  "cells": [
    {
      "cell_type": "markdown",
      "metadata": {
        "id": "view-in-github",
        "colab_type": "text"
      },
      "source": [
        "<a href=\"https://colab.research.google.com/github/jaunty0216/ForSophomoreCourse/blob/main/%E8%AA%AA%E6%95%85%E4%BA%8B%E6%A9%9F%E5%99%A8%E4%BA%BA.ipynb\" target=\"_parent\"><img src=\"https://colab.research.google.com/assets/colab-badge.svg\" alt=\"Open In Colab\"/></a>"
      ]
    },
    {
      "cell_type": "markdown",
      "source": [
        "你好早安"
      ],
      "metadata": {
        "id": "bkQ8nFGpUT7r"
      }
    },
    {
      "cell_type": "code",
      "source": [
        "from google.colab import userdata #從這裡引入使用者資料\n",
        "GOOGLE_API_KEY = userdata.get('GOOGLE_API_KEY') #取得自己的apikey\n",
        "\n",
        "import google.generativeai as genai #這裡引用模型\n",
        "genai.configure(api_key = GOOGLE_API_KEY) #驗證api，有效才能往下進行\n",
        "model = genai.GenerativeModel(\"gemini-1.5-flash\") #有很多模型，哪一個?\n",
        "\n",
        "prompt = \"write a story about pan\" #prompt\n",
        "response = model.generate_content(prompt) #根據prompt做回應\n",
        "print(response.text)  #輸出"
      ],
      "metadata": {
        "id": "v1RDbL2RaA78"
      },
      "execution_count": null,
      "outputs": []
    },
    {
      "cell_type": "code",
      "source": [],
      "metadata": {
        "id": "vFvYpPyomAGw"
      },
      "execution_count": null,
      "outputs": []
    }
  ]
}