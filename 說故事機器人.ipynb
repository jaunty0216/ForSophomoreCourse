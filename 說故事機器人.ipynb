{
  "nbformat": 4,
  "nbformat_minor": 0,
  "metadata": {
    "colab": {
      "provenance": [],
      "authorship_tag": "ABX9TyPfil409pNjfscDxm3he8/e",
      "include_colab_link": true
    },
    "kernelspec": {
      "name": "python3",
      "display_name": "Python 3"
    },
    "language_info": {
      "name": "python"
    }
  },
  "cells": [
    {
      "cell_type": "markdown",
      "metadata": {
        "id": "view-in-github",
        "colab_type": "text"
      },
      "source": [
        "<a href=\"https://colab.research.google.com/github/jaunty0216/ForSophomoreCourse/blob/main/%E8%AA%AA%E6%95%85%E4%BA%8B%E6%A9%9F%E5%99%A8%E4%BA%BA.ipynb\" target=\"_parent\"><img src=\"https://colab.research.google.com/assets/colab-badge.svg\" alt=\"Open In Colab\"/></a>"
      ]
    },
    {
      "cell_type": "code",
      "source": [
        "from google.colab import userdata #從這裡引入使用者資料\n",
        "GOOGLE_API_KEY = userdata.get(\"GOOGLE_API_KEY\") #取得自己的apikey\n",
        "\n",
        "import google.generativeai as genai #這裡引用模型\n",
        "genai.configure(api_key = GOOGLE_API_KEY) #驗證api，有效才能往下進行\n",
        "model = genai.GenerativeModel(\"gemini-1.5-flash\") #有很多模型，哪一個?\n",
        "\n",
        "prompt = input(\"Give a prompt to create a story:\") #prompt\n",
        "response = model.generate_content(prompt) #根據prompt做回應\n",
        "print(response.text)  #輸出"
      ],
      "metadata": {
        "colab": {
          "base_uri": "https://localhost:8080/",
          "height": 346
        },
        "id": "RvvjYaNro5CN",
        "outputId": "e60175f9-f83b-48fc-88e6-098aa93f3406"
      },
      "execution_count": 2,
      "outputs": [
        {
          "output_type": "stream",
          "name": "stdout",
          "text": [
            "Give a prompt to create a story:a story about a weird fish\n",
            "Bartholomew wasn't your average anglerfish.  While his brethren lurked in the inky black of the abyss, content with their bioluminescent lures and grotesque appearances, Bartholomew preferred the shallows. He disliked the crushing pressure, found the perpetual darkness depressing, and honestly, the constant threat of being eaten by something bigger felt exhausting.\n",
            "\n",
            "Bartholomew was also, to put it mildly, brightly coloured.  He was a vibrant, almost offensively cheerful shade of flamingo pink, with lime green fins that fluttered nervously whenever a crab scuttled past. His lure, instead of the usual dangling bioluminescent blob, was a tiny, meticulously crafted seashell mobile, that tinkled faintly in the current. He’d spent weeks painstakingly assembling it from discarded bits of coral and iridescent clam fragments.\n",
            "\n",
            "The other fish found him utterly bewildering.  A shoal of grumpy-looking rockfish would often gather to watch him, their expressions a mixture of confusion and contempt.  \"What's that… *thing*?\" one would mutter, its gills flaring.\n",
            "\n",
            "Bartholomew, oblivious, would cheerfully wave a fin and attempt to engage them in conversation.  \"Good morning! Lovely day for a swim, wouldn't you say?\" he'd gush, his voice a surprisingly high-pitched trill.  His attempts at socializing were invariably met with silence and a hasty retreat.\n",
            "\n",
            "His unconventional lifestyle meant Bartholomew struggled to find food.  His tinkling mobile attracted curious shrimp, certainly, but not the larger prey his brethren feasted upon. He mostly survived on algae and the occasional exceptionally naive sea snail.\n",
            "\n",
            "One day, a group of children, on a snorkelling trip, spotted him.  They gasped, pointing excitedly at the pink fish with the glittering mobile.  Their delight was infectious.  The children, unlike the grumpy rockfish, found Bartholomew charming. They drew pictures of him, told stories about him, and even composed a song about the \"Pinky the Tinkler,\" as they affectionately dubbed him.\n",
            "\n",
            "News of Pinky the Tinkler spread through the coastal town. Tourists flocked to the shallows just to catch a glimpse of the unusual creature.  Bartholomew, surprisingly, thrived in the attention. He wasn't alone anymore.  The children brought him tiny pieces of seaweed and even fashioned a miniature, glitter-encrusted crown for his head.\n",
            "\n",
            "Bartholomew, the flamboyant, out-of-place anglerfish, had found his niche. He was no longer just a weird fish; he was a celebrity, a beloved eccentric, proving that even in the underwater world, being different could be wonderfully, spectacularly successful.  And, perhaps more importantly, it was a lot more fun.\n",
            "\n"
          ]
        }
      ]
    },
    {
      "cell_type": "code",
      "source": [],
      "metadata": {
        "id": "_D4gFboXo592"
      },
      "execution_count": null,
      "outputs": []
    }
  ]
}