{
  "nbformat": 4,
  "nbformat_minor": 0,
  "metadata": {
    "colab": {
      "provenance": [],
      "toc_visible": true,
      "authorship_tag": "ABX9TyN60oZ3A2uhDlii+oQorlDs",
      "include_colab_link": true
    },
    "kernelspec": {
      "name": "python3",
      "display_name": "Python 3"
    },
    "language_info": {
      "name": "python"
    }
  },
  "cells": [
    {
      "cell_type": "markdown",
      "metadata": {
        "id": "view-in-github",
        "colab_type": "text"
      },
      "source": [
        "<a href=\"https://colab.research.google.com/github/jaunty0216/ForSophomoreCourse/blob/main/%E7%AC%AC%E4%BA%94%E9%80%B1_%E6%8A%8A%E8%A1%A8%E6%A0%BC%E8%B3%87%E6%96%99%E6%95%B4%E7%90%86%E4%B8%A6%E8%A6%96%E8%A6%BA%E5%8C%96.ipynb\" target=\"_parent\"><img src=\"https://colab.research.google.com/assets/colab-badge.svg\" alt=\"Open In Colab\"/></a>"
      ]
    },
    {
      "cell_type": "markdown",
      "source": [
        "# 目標\n",
        "\n",
        "\n",
        "---\n",
        "\n",
        "\n",
        "這次的目標：**把表格資料視覺化**"
      ],
      "metadata": {
        "id": "Get9AwaiN3Ed"
      }
    },
    {
      "cell_type": "markdown",
      "source": [
        "# 匯入資料並整理\n",
        "我們要**上傳csv檔**"
      ],
      "metadata": {
        "id": "9bH6obiumIDa"
      }
    },
    {
      "cell_type": "code",
      "source": [
        "from google.colab import files #你在google colab寫程式，所以當然，開頭都跟google.colab有關\n",
        "UploadedFile = files.upload() #資料上傳"
      ],
      "metadata": {
        "colab": {
          "base_uri": "https://localhost:8080/",
          "height": 76
        },
        "id": "zqlshSmSPLmr",
        "outputId": "6d1e5a62-41de-41d7-d9c7-d4e5175ce52a"
      },
      "execution_count": null,
      "outputs": [
        {
          "output_type": "display_data",
          "data": {
            "text/plain": [
              "<IPython.core.display.HTML object>"
            ],
            "text/html": [
              "\n",
              "     <input type=\"file\" id=\"files-9e26a983-ed10-4707-9507-9e182ea62796\" name=\"files[]\" multiple disabled\n",
              "        style=\"border:none\" />\n",
              "     <output id=\"result-9e26a983-ed10-4707-9507-9e182ea62796\">\n",
              "      Upload widget is only available when the cell has been executed in the\n",
              "      current browser session. Please rerun this cell to enable.\n",
              "      </output>\n",
              "      <script>// Copyright 2017 Google LLC\n",
              "//\n",
              "// Licensed under the Apache License, Version 2.0 (the \"License\");\n",
              "// you may not use this file except in compliance with the License.\n",
              "// You may obtain a copy of the License at\n",
              "//\n",
              "//      http://www.apache.org/licenses/LICENSE-2.0\n",
              "//\n",
              "// Unless required by applicable law or agreed to in writing, software\n",
              "// distributed under the License is distributed on an \"AS IS\" BASIS,\n",
              "// WITHOUT WARRANTIES OR CONDITIONS OF ANY KIND, either express or implied.\n",
              "// See the License for the specific language governing permissions and\n",
              "// limitations under the License.\n",
              "\n",
              "/**\n",
              " * @fileoverview Helpers for google.colab Python module.\n",
              " */\n",
              "(function(scope) {\n",
              "function span(text, styleAttributes = {}) {\n",
              "  const element = document.createElement('span');\n",
              "  element.textContent = text;\n",
              "  for (const key of Object.keys(styleAttributes)) {\n",
              "    element.style[key] = styleAttributes[key];\n",
              "  }\n",
              "  return element;\n",
              "}\n",
              "\n",
              "// Max number of bytes which will be uploaded at a time.\n",
              "const MAX_PAYLOAD_SIZE = 100 * 1024;\n",
              "\n",
              "function _uploadFiles(inputId, outputId) {\n",
              "  const steps = uploadFilesStep(inputId, outputId);\n",
              "  const outputElement = document.getElementById(outputId);\n",
              "  // Cache steps on the outputElement to make it available for the next call\n",
              "  // to uploadFilesContinue from Python.\n",
              "  outputElement.steps = steps;\n",
              "\n",
              "  return _uploadFilesContinue(outputId);\n",
              "}\n",
              "\n",
              "// This is roughly an async generator (not supported in the browser yet),\n",
              "// where there are multiple asynchronous steps and the Python side is going\n",
              "// to poll for completion of each step.\n",
              "// This uses a Promise to block the python side on completion of each step,\n",
              "// then passes the result of the previous step as the input to the next step.\n",
              "function _uploadFilesContinue(outputId) {\n",
              "  const outputElement = document.getElementById(outputId);\n",
              "  const steps = outputElement.steps;\n",
              "\n",
              "  const next = steps.next(outputElement.lastPromiseValue);\n",
              "  return Promise.resolve(next.value.promise).then((value) => {\n",
              "    // Cache the last promise value to make it available to the next\n",
              "    // step of the generator.\n",
              "    outputElement.lastPromiseValue = value;\n",
              "    return next.value.response;\n",
              "  });\n",
              "}\n",
              "\n",
              "/**\n",
              " * Generator function which is called between each async step of the upload\n",
              " * process.\n",
              " * @param {string} inputId Element ID of the input file picker element.\n",
              " * @param {string} outputId Element ID of the output display.\n",
              " * @return {!Iterable<!Object>} Iterable of next steps.\n",
              " */\n",
              "function* uploadFilesStep(inputId, outputId) {\n",
              "  const inputElement = document.getElementById(inputId);\n",
              "  inputElement.disabled = false;\n",
              "\n",
              "  const outputElement = document.getElementById(outputId);\n",
              "  outputElement.innerHTML = '';\n",
              "\n",
              "  const pickedPromise = new Promise((resolve) => {\n",
              "    inputElement.addEventListener('change', (e) => {\n",
              "      resolve(e.target.files);\n",
              "    });\n",
              "  });\n",
              "\n",
              "  const cancel = document.createElement('button');\n",
              "  inputElement.parentElement.appendChild(cancel);\n",
              "  cancel.textContent = 'Cancel upload';\n",
              "  const cancelPromise = new Promise((resolve) => {\n",
              "    cancel.onclick = () => {\n",
              "      resolve(null);\n",
              "    };\n",
              "  });\n",
              "\n",
              "  // Wait for the user to pick the files.\n",
              "  const files = yield {\n",
              "    promise: Promise.race([pickedPromise, cancelPromise]),\n",
              "    response: {\n",
              "      action: 'starting',\n",
              "    }\n",
              "  };\n",
              "\n",
              "  cancel.remove();\n",
              "\n",
              "  // Disable the input element since further picks are not allowed.\n",
              "  inputElement.disabled = true;\n",
              "\n",
              "  if (!files) {\n",
              "    return {\n",
              "      response: {\n",
              "        action: 'complete',\n",
              "      }\n",
              "    };\n",
              "  }\n",
              "\n",
              "  for (const file of files) {\n",
              "    const li = document.createElement('li');\n",
              "    li.append(span(file.name, {fontWeight: 'bold'}));\n",
              "    li.append(span(\n",
              "        `(${file.type || 'n/a'}) - ${file.size} bytes, ` +\n",
              "        `last modified: ${\n",
              "            file.lastModifiedDate ? file.lastModifiedDate.toLocaleDateString() :\n",
              "                                    'n/a'} - `));\n",
              "    const percent = span('0% done');\n",
              "    li.appendChild(percent);\n",
              "\n",
              "    outputElement.appendChild(li);\n",
              "\n",
              "    const fileDataPromise = new Promise((resolve) => {\n",
              "      const reader = new FileReader();\n",
              "      reader.onload = (e) => {\n",
              "        resolve(e.target.result);\n",
              "      };\n",
              "      reader.readAsArrayBuffer(file);\n",
              "    });\n",
              "    // Wait for the data to be ready.\n",
              "    let fileData = yield {\n",
              "      promise: fileDataPromise,\n",
              "      response: {\n",
              "        action: 'continue',\n",
              "      }\n",
              "    };\n",
              "\n",
              "    // Use a chunked sending to avoid message size limits. See b/62115660.\n",
              "    let position = 0;\n",
              "    do {\n",
              "      const length = Math.min(fileData.byteLength - position, MAX_PAYLOAD_SIZE);\n",
              "      const chunk = new Uint8Array(fileData, position, length);\n",
              "      position += length;\n",
              "\n",
              "      const base64 = btoa(String.fromCharCode.apply(null, chunk));\n",
              "      yield {\n",
              "        response: {\n",
              "          action: 'append',\n",
              "          file: file.name,\n",
              "          data: base64,\n",
              "        },\n",
              "      };\n",
              "\n",
              "      let percentDone = fileData.byteLength === 0 ?\n",
              "          100 :\n",
              "          Math.round((position / fileData.byteLength) * 100);\n",
              "      percent.textContent = `${percentDone}% done`;\n",
              "\n",
              "    } while (position < fileData.byteLength);\n",
              "  }\n",
              "\n",
              "  // All done.\n",
              "  yield {\n",
              "    response: {\n",
              "      action: 'complete',\n",
              "    }\n",
              "  };\n",
              "}\n",
              "\n",
              "scope.google = scope.google || {};\n",
              "scope.google.colab = scope.google.colab || {};\n",
              "scope.google.colab._files = {\n",
              "  _uploadFiles,\n",
              "  _uploadFilesContinue,\n",
              "};\n",
              "})(self);\n",
              "</script> "
            ]
          },
          "metadata": {}
        },
        {
          "output_type": "stream",
          "name": "stdout",
          "text": [
            "Saving mood.csv to mood.csv\n"
          ]
        }
      ]
    },
    {
      "cell_type": "markdown",
      "source": [
        "接下來要**新增讀取工具**"
      ],
      "metadata": {
        "id": "S0Y1XR6fUVTi"
      }
    },
    {
      "cell_type": "code",
      "source": [
        "import pandas as pd #引入熊貓讀取軟體\n",
        "File_Path = '/content/mood.csv' #檔案可以在左方直列的資料夾圖示中找到\n",
        "\n",
        "try:#嘗試模式，確保可以完整執行\n",
        "  OriginalFile = pd.read_csv(File_Path)#熊貓的功能，閱讀csv檔案\n",
        "  print(OriginalFile)\n",
        "except:\n",
        "  print('Fail')"
      ],
      "metadata": {
        "colab": {
          "base_uri": "https://localhost:8080/"
        },
        "id": "2xG97sdFUcXB",
        "outputId": "8b804b0a-1e2f-435e-b431-8bb9d99bd076"
      },
      "execution_count": 12,
      "outputs": [
        {
          "output_type": "stream",
          "name": "stdout",
          "text": [
            "    Reference       Day   Time Feeling  MoodIndex\n",
            "0           1  2025/1/1    day   happy         92\n",
            "1           1  2025/1/1   noon     sad          3\n",
            "2           1  2025/1/1  night    none          0\n",
            "3           2  2025/1/2    day     joy         68\n",
            "4           2  2025/1/2   noon   happy         93\n",
            "5           2  2025/1/2  night     mad          1\n",
            "6           3  2025/1/3    day    none          0\n",
            "7           3  2025/1/3   noon    none          0\n",
            "8           3  2025/1/3  night     joy         76\n",
            "9           4  2025/1/4    day   happy         96\n",
            "10          4  2025/1/4   noon     joy         72\n",
            "11          4  2025/1/4  night    none          0\n"
          ]
        }
      ]
    },
    {
      "cell_type": "markdown",
      "source": [
        "我要找出**快樂和愉悅**的**心情指數的加總**"
      ],
      "metadata": {
        "id": "nTrwxMsTXYTZ"
      }
    },
    {
      "cell_type": "code",
      "source": [
        "happy = OriginalFile[OriginalFile['Feeling'] == 'happy']\n",
        "joy = OriginalFile[OriginalFile['Feeling'] == 'joy']\n",
        "print(happy)\n",
        "print(joy)"
      ],
      "metadata": {
        "colab": {
          "base_uri": "https://localhost:8080/"
        },
        "id": "Pscbd6wVb_Ev",
        "outputId": "3cb82853-c990-4e6f-a6a7-df07a65c34c8"
      },
      "execution_count": 49,
      "outputs": [
        {
          "output_type": "stream",
          "name": "stdout",
          "text": [
            "   Reference       Day  Time Feeling  MoodIndex\n",
            "0          1  2025/1/1   day   happy         92\n",
            "4          2  2025/1/2  noon   happy         93\n",
            "9          4  2025/1/4   day   happy         96\n",
            "    Reference       Day   Time Feeling  MoodIndex\n",
            "3           2  2025/1/2    day     joy         68\n",
            "8           3  2025/1/3  night     joy         76\n",
            "10          4  2025/1/4   noon     joy         72\n"
          ]
        }
      ]
    },
    {
      "cell_type": "markdown",
      "source": [
        "但是那個**index是亂掉**的狀態"
      ],
      "metadata": {
        "id": "ZK6a3E7qZLoI"
      }
    },
    {
      "cell_type": "code",
      "source": [
        "happy_reset = happy.reset_index(drop=True)\n",
        "joy_reset = joy.reset_index(drop=True)\n",
        "print(happy_reset)\n",
        "print(joy_reset)"
      ],
      "metadata": {
        "colab": {
          "base_uri": "https://localhost:8080/"
        },
        "id": "9zCf0SSccO3O",
        "outputId": "f4d0090b-910f-4696-a48f-5a765f70445f"
      },
      "execution_count": 51,
      "outputs": [
        {
          "output_type": "stream",
          "name": "stdout",
          "text": [
            "   Reference       Day  Time Feeling  MoodIndex\n",
            "0          1  2025/1/1   day   happy         92\n",
            "1          2  2025/1/2  noon   happy         93\n",
            "2          4  2025/1/4   day   happy         96\n",
            "   Reference       Day   Time Feeling  MoodIndex\n",
            "0          2  2025/1/2    day     joy         68\n",
            "1          3  2025/1/3  night     joy         76\n",
            "2          4  2025/1/4   noon     joy         72\n"
          ]
        }
      ]
    },
    {
      "cell_type": "markdown",
      "source": [
        "但我**只要MoodIndex**而已"
      ],
      "metadata": {
        "id": "yqMdqtToZr6g"
      }
    },
    {
      "cell_type": "code",
      "source": [
        "happy_reset_extract = happy['MoodIndex']\n",
        "joy_reset_extract = joy['MoodIndex']\n",
        "print(happy_reset_extract)\n",
        "print(joy_reset_extract)"
      ],
      "metadata": {
        "colab": {
          "base_uri": "https://localhost:8080/"
        },
        "id": "dbiOaCV4cZSV",
        "outputId": "4a1e110d-fcf7-4f81-fd3e-766c850e5cc5"
      },
      "execution_count": 53,
      "outputs": [
        {
          "output_type": "stream",
          "name": "stdout",
          "text": [
            "0    92\n",
            "1    93\n",
            "2    96\n",
            "Name: MoodIndex, dtype: int64\n",
            "0    68\n",
            "1    76\n",
            "2    72\n",
            "Name: MoodIndex, dtype: int64\n"
          ]
        }
      ]
    },
    {
      "cell_type": "markdown",
      "source": [
        "開始**整合資料**"
      ],
      "metadata": {
        "id": "QZtdvhfGdooG"
      }
    },
    {
      "cell_type": "code",
      "source": [
        "All_Data = pd.DataFrame({'happy':happy_reset_extract,'joy':joy_reset_extract})\n",
        "# '來源':來源資料'\n",
        "print(All_Data)"
      ],
      "metadata": {
        "colab": {
          "base_uri": "https://localhost:8080/"
        },
        "id": "MjqHMm55dr79",
        "outputId": "5b64637f-8edf-4224-a820-0568726de93a"
      },
      "execution_count": 56,
      "outputs": [
        {
          "output_type": "stream",
          "name": "stdout",
          "text": [
            "   happy  joy\n",
            "0     92   68\n",
            "1     93   76\n",
            "2     96   72\n"
          ]
        }
      ]
    },
    {
      "cell_type": "markdown",
      "source": [
        "# 來畫圖囉"
      ],
      "metadata": {
        "id": "HNTsP5xreXBt"
      }
    },
    {
      "cell_type": "code",
      "source": [
        "import matplotlib.pyplot as plt #引入畫圖軟體\n",
        "\n",
        "length = float(input(\"enter length with cm (20 is suggested)\"))/2.54\n",
        "width = float(input(\"enter width with cm (10 is suggested)\"))/2.54\n",
        "# 因為figsize的單位是英寸，一英寸=2.54公分\n",
        "\n",
        "All_Data.plot(kind=\"bar\",stacked=True,figsize=(length,width))\n",
        "plt.xlabel(\"Time\")\n",
        "plt.ylabel(\"MoodIndex\")\n",
        "plt.title(\"Mood Analysis\")\n",
        "plt.legend(loc=\"upper right\") #legend在這裡的意思是\"位置\"，來自製圖英文\n",
        "plt.show()"
      ],
      "metadata": {
        "colab": {
          "base_uri": "https://localhost:8080/",
          "height": 435
        },
        "id": "OejVHI83eaxL",
        "outputId": "73ed6114-5ae9-4100-850d-e92ba266c51e"
      },
      "execution_count": 70,
      "outputs": [
        {
          "name": "stdout",
          "output_type": "stream",
          "text": [
            "enter length with cm (20 is suggested)20\n",
            "enter width with cm (10 is suggested)10\n"
          ]
        },
        {
          "output_type": "display_data",
          "data": {
            "text/plain": [
              "<Figure size 787.402x393.701 with 1 Axes>"
            ],
            "image/png": "[encoded data removed]"
          },
          "metadata": {}
        }
      ]
    },
    {
      "cell_type": "markdown",
      "source": [
        "# 結尾\n",
        "今天這些作業有**用到那些技術**呢?"
      ],
      "metadata": {
        "id": "-xprbeWGifds"
      }
    },
    {
      "cell_type": "markdown",
      "source": [
        "*   在excel\n",
        "  1. row函數的用法\n",
        "*   在colab整理資料時\n",
        "  1.   上傳檔案的功能\n",
        "  2.   讀取資料的功能\n",
        "  2.   篩選特定資料的功能\n",
        "  3.   重設index的功能\n",
        "  4.   從特定範圍中再取出特定資料的功能\n",
        "  5.   整合資料的功能\n",
        "*   在colab繪圖時\n",
        "  1.   legend標示圖表位置\n",
        "  2.   plot是畫出圖片的重點函數\n"
      ],
      "metadata": {
        "id": "gAaGwoDpi_4T"
      }
    },
    {
      "cell_type": "code",
      "source": [],
      "metadata": {
        "id": "HBr5Hv-znIV2"
      },
      "execution_count": null,
      "outputs": []
    }
  ]
}